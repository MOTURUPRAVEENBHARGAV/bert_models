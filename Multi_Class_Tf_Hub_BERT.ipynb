{
  "nbformat": 4,
  "nbformat_minor": 0,
  "metadata": {
    "colab": {
      "name": "Multi Class_Tf-Hub_BERT.ipynb",
      "provenance": [],
      "collapsed_sections": [],
      "mount_file_id": "1JkypsDfiuKpyPA6TcrTMn2Iilywqj6pA",
      "authorship_tag": "ABX9TyMYybBJlvmhTFD6PiKFjqhY",
      "include_colab_link": true
    },
    "kernelspec": {
      "name": "python3",
      "display_name": "Python 3"
    },
    "accelerator": "GPU"
  },
  "cells": [
    {
      "cell_type": "markdown",
      "metadata": {
        "id": "view-in-github",
        "colab_type": "text"
      },
      "source": [
        "<a href=\"https://colab.research.google.com/github/MOTURUPRAVEENBHARGAV/bert_models/blob/main/Multi_Class_Tf_Hub_BERT.ipynb\" target=\"_parent\"><img src=\"https://colab.research.google.com/assets/colab-badge.svg\" alt=\"Open In Colab\"/></a>"
      ]
    },
    {
      "cell_type": "markdown",
      "metadata": {
        "id": "57lSGfkEYQo8"
      },
      "source": [
        "For Reference: https://www.analyticsvidhya.com/blog/2020/10/simple-text-multi-classification-task-using-keras-bert/\r\n",
        "\r\n",
        "GitHub: https://github.com/chandrashekhar1227-ML/Git_hub_bugs_prediction_using_Keras_BERT/blob/main/git-hub-bugs-prediction-using-bert.ipynb"
      ]
    },
    {
      "cell_type": "markdown",
      "metadata": {
        "id": "dYGsStBKYggl"
      },
      "source": [
        "BERT is a model that knows to represent text. You give it some sequence as an input, it then looks left and right several times and produces a vector representation for each word as the output. At the end of 2018 researchers at Google AI Language open-sourced a new technique for Natural Language Processing (NLP) called BERT (Bidirectional Encoder Representations from Transformers). A major breakthrough that took the Deep Learning community by storm because of its incredible performance."
      ]
    },
    {
      "cell_type": "markdown",
      "metadata": {
        "id": "NIWzdlXvZP7C"
      },
      "source": [
        "# How does it work?\r\n",
        "\r\n",
        "BERT relies on a Transformer (the attention mechanism that learns contextual relationships between words in a text). A basic Transformer consists of an encoder to read the text input and a decoder to produce a prediction for the task. Since BERT’s goal is to generate a language representation model, it only needs the encoder part. The input to the encoder for BERT is a sequence of tokens, which are first converted into vectors and then processed in the neural network. But before processing can start, BERT needs the input to be massaged and decorated with some extra metadata:\r\n",
        "\r\n",
        "- Token embeddings: A [CLS] token is added to the input word tokens at the beginning of the first sentence and a [SEP] token is inserted at the end of each sentence.\r\n",
        "- Segment embeddings: A marker indicating Sentence A or Sentence B is added to each token. This allows the encoder to distinguish between sentences.\r\n",
        "- Positional embeddings: A positional embedding is added to each token to indicate its position in the sentence."
      ]
    },
    {
      "cell_type": "markdown",
      "metadata": {
        "id": "icQ29Tu8aPWb"
      },
      "source": [
        "Loading the Required Packages"
      ]
    },
    {
      "cell_type": "code",
      "metadata": {
        "id": "UNCP1ZTpXQdH"
      },
      "source": [
        "import numpy as np\r\n",
        "import pandas as pd\r\n",
        "import tensorflow as tf\r\n",
        "import tensorflow_hub as hub\r\n",
        "import logging\r\n",
        "logging.basicConfig(level=logging.INFO)"
      ],
      "execution_count": null,
      "outputs": []
    },
    {
      "cell_type": "markdown",
      "metadata": {
        "id": "MonjCKwqapg4"
      },
      "source": [
        "We will need a BERT Tokenization Class"
      ]
    },
    {
      "cell_type": "code",
      "metadata": {
        "id": "Mc-uYKP7auM3"
      },
      "source": [
        "!wget --quiet https://raw.githubusercontent.com/tensorflow/models/master/official/nlp/bert/tokenization.py"
      ],
      "execution_count": null,
      "outputs": []
    },
    {
      "cell_type": "markdown",
      "metadata": {
        "id": "g27Vs2Aba_aJ"
      },
      "source": [
        "## Build a BERT Layer"
      ]
    },
    {
      "cell_type": "code",
      "metadata": {
        "colab": {
          "base_uri": "https://localhost:8080/"
        },
        "id": "thxw3J0Cbuj4",
        "outputId": "002265fc-f773-43dc-8365-6a744eb3d93e"
      },
      "source": [
        "!pip install sentencepiece"
      ],
      "execution_count": null,
      "outputs": [
        {
          "output_type": "stream",
          "text": [
            "Collecting sentencepiece\n",
            "\u001b[?25l  Downloading https://files.pythonhosted.org/packages/f5/99/e0808cb947ba10f575839c43e8fafc9cc44e4a7a2c8f79c60db48220a577/sentencepiece-0.1.95-cp37-cp37m-manylinux2014_x86_64.whl (1.2MB)\n",
            "\r\u001b[K     |▎                               | 10kB 21.6MB/s eta 0:00:01\r\u001b[K     |▌                               | 20kB 27.9MB/s eta 0:00:01\r\u001b[K     |▉                               | 30kB 25.0MB/s eta 0:00:01\r\u001b[K     |█                               | 40kB 22.0MB/s eta 0:00:01\r\u001b[K     |█▍                              | 51kB 23.4MB/s eta 0:00:01\r\u001b[K     |█▋                              | 61kB 20.1MB/s eta 0:00:01\r\u001b[K     |██                              | 71kB 19.4MB/s eta 0:00:01\r\u001b[K     |██▏                             | 81kB 19.7MB/s eta 0:00:01\r\u001b[K     |██▌                             | 92kB 17.0MB/s eta 0:00:01\r\u001b[K     |██▊                             | 102kB 18.2MB/s eta 0:00:01\r\u001b[K     |███                             | 112kB 18.2MB/s eta 0:00:01\r\u001b[K     |███▎                            | 122kB 18.2MB/s eta 0:00:01\r\u001b[K     |███▌                            | 133kB 18.2MB/s eta 0:00:01\r\u001b[K     |███▉                            | 143kB 18.2MB/s eta 0:00:01\r\u001b[K     |████                            | 153kB 18.2MB/s eta 0:00:01\r\u001b[K     |████▍                           | 163kB 18.2MB/s eta 0:00:01\r\u001b[K     |████▋                           | 174kB 18.2MB/s eta 0:00:01\r\u001b[K     |█████                           | 184kB 18.2MB/s eta 0:00:01\r\u001b[K     |█████▏                          | 194kB 18.2MB/s eta 0:00:01\r\u001b[K     |█████▌                          | 204kB 18.2MB/s eta 0:00:01\r\u001b[K     |█████▊                          | 215kB 18.2MB/s eta 0:00:01\r\u001b[K     |██████                          | 225kB 18.2MB/s eta 0:00:01\r\u001b[K     |██████▎                         | 235kB 18.2MB/s eta 0:00:01\r\u001b[K     |██████▌                         | 245kB 18.2MB/s eta 0:00:01\r\u001b[K     |██████▉                         | 256kB 18.2MB/s eta 0:00:01\r\u001b[K     |███████                         | 266kB 18.2MB/s eta 0:00:01\r\u001b[K     |███████▍                        | 276kB 18.2MB/s eta 0:00:01\r\u001b[K     |███████▋                        | 286kB 18.2MB/s eta 0:00:01\r\u001b[K     |████████                        | 296kB 18.2MB/s eta 0:00:01\r\u001b[K     |████████▏                       | 307kB 18.2MB/s eta 0:00:01\r\u001b[K     |████████▍                       | 317kB 18.2MB/s eta 0:00:01\r\u001b[K     |████████▊                       | 327kB 18.2MB/s eta 0:00:01\r\u001b[K     |█████████                       | 337kB 18.2MB/s eta 0:00:01\r\u001b[K     |█████████▎                      | 348kB 18.2MB/s eta 0:00:01\r\u001b[K     |█████████▌                      | 358kB 18.2MB/s eta 0:00:01\r\u001b[K     |█████████▉                      | 368kB 18.2MB/s eta 0:00:01\r\u001b[K     |██████████                      | 378kB 18.2MB/s eta 0:00:01\r\u001b[K     |██████████▍                     | 389kB 18.2MB/s eta 0:00:01\r\u001b[K     |██████████▋                     | 399kB 18.2MB/s eta 0:00:01\r\u001b[K     |███████████                     | 409kB 18.2MB/s eta 0:00:01\r\u001b[K     |███████████▏                    | 419kB 18.2MB/s eta 0:00:01\r\u001b[K     |███████████▍                    | 430kB 18.2MB/s eta 0:00:01\r\u001b[K     |███████████▊                    | 440kB 18.2MB/s eta 0:00:01\r\u001b[K     |████████████                    | 450kB 18.2MB/s eta 0:00:01\r\u001b[K     |████████████▎                   | 460kB 18.2MB/s eta 0:00:01\r\u001b[K     |████████████▌                   | 471kB 18.2MB/s eta 0:00:01\r\u001b[K     |████████████▉                   | 481kB 18.2MB/s eta 0:00:01\r\u001b[K     |█████████████                   | 491kB 18.2MB/s eta 0:00:01\r\u001b[K     |█████████████▍                  | 501kB 18.2MB/s eta 0:00:01\r\u001b[K     |█████████████▋                  | 512kB 18.2MB/s eta 0:00:01\r\u001b[K     |█████████████▉                  | 522kB 18.2MB/s eta 0:00:01\r\u001b[K     |██████████████▏                 | 532kB 18.2MB/s eta 0:00:01\r\u001b[K     |██████████████▍                 | 542kB 18.2MB/s eta 0:00:01\r\u001b[K     |██████████████▊                 | 552kB 18.2MB/s eta 0:00:01\r\u001b[K     |███████████████                 | 563kB 18.2MB/s eta 0:00:01\r\u001b[K     |███████████████▎                | 573kB 18.2MB/s eta 0:00:01\r\u001b[K     |███████████████▌                | 583kB 18.2MB/s eta 0:00:01\r\u001b[K     |███████████████▉                | 593kB 18.2MB/s eta 0:00:01\r\u001b[K     |████████████████                | 604kB 18.2MB/s eta 0:00:01\r\u001b[K     |████████████████▍               | 614kB 18.2MB/s eta 0:00:01\r\u001b[K     |████████████████▋               | 624kB 18.2MB/s eta 0:00:01\r\u001b[K     |████████████████▉               | 634kB 18.2MB/s eta 0:00:01\r\u001b[K     |█████████████████▏              | 645kB 18.2MB/s eta 0:00:01\r\u001b[K     |█████████████████▍              | 655kB 18.2MB/s eta 0:00:01\r\u001b[K     |█████████████████▊              | 665kB 18.2MB/s eta 0:00:01\r\u001b[K     |██████████████████              | 675kB 18.2MB/s eta 0:00:01\r\u001b[K     |██████████████████▎             | 686kB 18.2MB/s eta 0:00:01\r\u001b[K     |██████████████████▌             | 696kB 18.2MB/s eta 0:00:01\r\u001b[K     |██████████████████▉             | 706kB 18.2MB/s eta 0:00:01\r\u001b[K     |███████████████████             | 716kB 18.2MB/s eta 0:00:01\r\u001b[K     |███████████████████▎            | 727kB 18.2MB/s eta 0:00:01\r\u001b[K     |███████████████████▋            | 737kB 18.2MB/s eta 0:00:01\r\u001b[K     |███████████████████▉            | 747kB 18.2MB/s eta 0:00:01\r\u001b[K     |████████████████████▏           | 757kB 18.2MB/s eta 0:00:01\r\u001b[K     |████████████████████▍           | 768kB 18.2MB/s eta 0:00:01\r\u001b[K     |████████████████████▊           | 778kB 18.2MB/s eta 0:00:01\r\u001b[K     |█████████████████████           | 788kB 18.2MB/s eta 0:00:01\r\u001b[K     |█████████████████████▎          | 798kB 18.2MB/s eta 0:00:01\r\u001b[K     |█████████████████████▌          | 808kB 18.2MB/s eta 0:00:01\r\u001b[K     |█████████████████████▉          | 819kB 18.2MB/s eta 0:00:01\r\u001b[K     |██████████████████████          | 829kB 18.2MB/s eta 0:00:01\r\u001b[K     |██████████████████████▎         | 839kB 18.2MB/s eta 0:00:01\r\u001b[K     |██████████████████████▋         | 849kB 18.2MB/s eta 0:00:01\r\u001b[K     |██████████████████████▉         | 860kB 18.2MB/s eta 0:00:01\r\u001b[K     |███████████████████████▏        | 870kB 18.2MB/s eta 0:00:01\r\u001b[K     |███████████████████████▍        | 880kB 18.2MB/s eta 0:00:01\r\u001b[K     |███████████████████████▊        | 890kB 18.2MB/s eta 0:00:01\r\u001b[K     |████████████████████████        | 901kB 18.2MB/s eta 0:00:01\r\u001b[K     |████████████████████████▎       | 911kB 18.2MB/s eta 0:00:01\r\u001b[K     |████████████████████████▌       | 921kB 18.2MB/s eta 0:00:01\r\u001b[K     |████████████████████████▊       | 931kB 18.2MB/s eta 0:00:01\r\u001b[K     |█████████████████████████       | 942kB 18.2MB/s eta 0:00:01\r\u001b[K     |█████████████████████████▎      | 952kB 18.2MB/s eta 0:00:01\r\u001b[K     |█████████████████████████▋      | 962kB 18.2MB/s eta 0:00:01\r\u001b[K     |█████████████████████████▉      | 972kB 18.2MB/s eta 0:00:01\r\u001b[K     |██████████████████████████▏     | 983kB 18.2MB/s eta 0:00:01\r\u001b[K     |██████████████████████████▍     | 993kB 18.2MB/s eta 0:00:01\r\u001b[K     |██████████████████████████▊     | 1.0MB 18.2MB/s eta 0:00:01\r\u001b[K     |███████████████████████████     | 1.0MB 18.2MB/s eta 0:00:01\r\u001b[K     |███████████████████████████▎    | 1.0MB 18.2MB/s eta 0:00:01\r\u001b[K     |███████████████████████████▌    | 1.0MB 18.2MB/s eta 0:00:01\r\u001b[K     |███████████████████████████▊    | 1.0MB 18.2MB/s eta 0:00:01\r\u001b[K     |████████████████████████████    | 1.1MB 18.2MB/s eta 0:00:01\r\u001b[K     |████████████████████████████▎   | 1.1MB 18.2MB/s eta 0:00:01\r\u001b[K     |████████████████████████████▋   | 1.1MB 18.2MB/s eta 0:00:01\r\u001b[K     |████████████████████████████▉   | 1.1MB 18.2MB/s eta 0:00:01\r\u001b[K     |█████████████████████████████▏  | 1.1MB 18.2MB/s eta 0:00:01\r\u001b[K     |█████████████████████████████▍  | 1.1MB 18.2MB/s eta 0:00:01\r\u001b[K     |█████████████████████████████▊  | 1.1MB 18.2MB/s eta 0:00:01\r\u001b[K     |██████████████████████████████  | 1.1MB 18.2MB/s eta 0:00:01\r\u001b[K     |██████████████████████████████▏ | 1.1MB 18.2MB/s eta 0:00:01\r\u001b[K     |██████████████████████████████▌ | 1.1MB 18.2MB/s eta 0:00:01\r\u001b[K     |██████████████████████████████▊ | 1.2MB 18.2MB/s eta 0:00:01\r\u001b[K     |███████████████████████████████ | 1.2MB 18.2MB/s eta 0:00:01\r\u001b[K     |███████████████████████████████▎| 1.2MB 18.2MB/s eta 0:00:01\r\u001b[K     |███████████████████████████████▋| 1.2MB 18.2MB/s eta 0:00:01\r\u001b[K     |███████████████████████████████▉| 1.2MB 18.2MB/s eta 0:00:01\r\u001b[K     |████████████████████████████████| 1.2MB 18.2MB/s \n",
            "\u001b[?25hInstalling collected packages: sentencepiece\n",
            "Successfully installed sentencepiece-0.1.95\n"
          ],
          "name": "stdout"
        }
      ]
    },
    {
      "cell_type": "code",
      "metadata": {
        "id": "ho2hp6TOa7EY"
      },
      "source": [
        "import tensorflow_hub as hub\r\n",
        "import tokenization\r\n",
        "module_url = 'https://tfhub.dev/tensorflow/bert_en_uncased_L-12_H-768_A-12/2'\r\n",
        "bert_layer = hub.KerasLayer(module_url, trainable=True)"
      ],
      "execution_count": null,
      "outputs": []
    },
    {
      "cell_type": "markdown",
      "metadata": {
        "id": "TV7oS8UzcunU"
      },
      "source": [
        "## Load the Data"
      ]
    },
    {
      "cell_type": "code",
      "metadata": {
        "colab": {
          "base_uri": "https://localhost:8080/",
          "height": 196
        },
        "id": "X64lPk7-cIYX",
        "outputId": "9f59862e-1b28-4001-834b-b56400565048"
      },
      "source": [
        "data=pd.read_csv(\"/content/drive/My Drive/Sentiment Analysis_Preskale/EDA FOR REVIEWS DATASET/Cleaned_reviews.csv\",index_col=\"Unnamed: 0\")\r\n",
        "data.head()"
      ],
      "execution_count": null,
      "outputs": [
        {
          "output_type": "execute_result",
          "data": {
            "text/html": [
              "<div>\n",
              "<style scoped>\n",
              "    .dataframe tbody tr th:only-of-type {\n",
              "        vertical-align: middle;\n",
              "    }\n",
              "\n",
              "    .dataframe tbody tr th {\n",
              "        vertical-align: top;\n",
              "    }\n",
              "\n",
              "    .dataframe thead th {\n",
              "        text-align: right;\n",
              "    }\n",
              "</style>\n",
              "<table border=\"1\" class=\"dataframe\">\n",
              "  <thead>\n",
              "    <tr style=\"text-align: right;\">\n",
              "      <th></th>\n",
              "      <th>userName</th>\n",
              "      <th>content</th>\n",
              "      <th>score</th>\n",
              "      <th>Polarity</th>\n",
              "      <th>clean_text</th>\n",
              "      <th>common_words</th>\n",
              "    </tr>\n",
              "  </thead>\n",
              "  <tbody>\n",
              "    <tr>\n",
              "      <th>0</th>\n",
              "      <td>Andrew Thomas</td>\n",
              "      <td>Update: After getting a response from the deve...</td>\n",
              "      <td>1</td>\n",
              "      <td>Negative</td>\n",
              "      <td>update getting response developer would change...</td>\n",
              "      <td>['update', 'getting', 'response', 'developer',...</td>\n",
              "    </tr>\n",
              "    <tr>\n",
              "      <th>1</th>\n",
              "      <td>Craig Haines</td>\n",
              "      <td>Used it for a fair amount of time without any ...</td>\n",
              "      <td>1</td>\n",
              "      <td>Negative</td>\n",
              "      <td>used fair amount time without problem suddenly...</td>\n",
              "      <td>['used', 'fair', 'amount', 'time', 'without', ...</td>\n",
              "    </tr>\n",
              "    <tr>\n",
              "      <th>2</th>\n",
              "      <td>steven adkins</td>\n",
              "      <td>Your app sucks now!!!!! Used to be good but no...</td>\n",
              "      <td>1</td>\n",
              "      <td>Negative</td>\n",
              "      <td>app suck used good doesnt update physically op...</td>\n",
              "      <td>['app', 'suck', 'used', 'good', 'doesnt', 'upd...</td>\n",
              "    </tr>\n",
              "    <tr>\n",
              "      <th>3</th>\n",
              "      <td>Lars Panzerbjørn</td>\n",
              "      <td>It seems OK, but very basic. Recurring tasks n...</td>\n",
              "      <td>1</td>\n",
              "      <td>Negative</td>\n",
              "      <td>seems ok basic recurring task need work actual...</td>\n",
              "      <td>['seems', 'ok', 'basic', 'recurring', 'task', ...</td>\n",
              "    </tr>\n",
              "    <tr>\n",
              "      <th>4</th>\n",
              "      <td>Scott Prewitt</td>\n",
              "      <td>Absolutely worthless. This app runs a prohibit...</td>\n",
              "      <td>1</td>\n",
              "      <td>Negative</td>\n",
              "      <td>absolutely worthless app run prohibitively clu...</td>\n",
              "      <td>['absolutely', 'worthless', 'app', 'run', 'pro...</td>\n",
              "    </tr>\n",
              "  </tbody>\n",
              "</table>\n",
              "</div>"
            ],
            "text/plain": [
              "           userName  ...                                       common_words\n",
              "0     Andrew Thomas  ...  ['update', 'getting', 'response', 'developer',...\n",
              "1      Craig Haines  ...  ['used', 'fair', 'amount', 'time', 'without', ...\n",
              "2     steven adkins  ...  ['app', 'suck', 'used', 'good', 'doesnt', 'upd...\n",
              "3  Lars Panzerbjørn  ...  ['seems', 'ok', 'basic', 'recurring', 'task', ...\n",
              "4     Scott Prewitt  ...  ['absolutely', 'worthless', 'app', 'run', 'pro...\n",
              "\n",
              "[5 rows x 6 columns]"
            ]
          },
          "metadata": {
            "tags": []
          },
          "execution_count": 97
        }
      ]
    },
    {
      "cell_type": "code",
      "metadata": {
        "colab": {
          "base_uri": "https://localhost:8080/"
        },
        "id": "q1KwdzqodGS4",
        "outputId": "3361d2e7-0e03-42be-f0a0-6a29df64a741"
      },
      "source": [
        "data=data.loc[:,[\"content\",\"Polarity\",\"clean_text\"]]\r\n",
        "data.columns"
      ],
      "execution_count": null,
      "outputs": [
        {
          "output_type": "execute_result",
          "data": {
            "text/plain": [
              "Index(['content', 'Polarity', 'clean_text'], dtype='object')"
            ]
          },
          "metadata": {
            "tags": []
          },
          "execution_count": 98
        }
      ]
    },
    {
      "cell_type": "code",
      "metadata": {
        "colab": {
          "base_uri": "https://localhost:8080/"
        },
        "id": "eFT7znJadJXP",
        "outputId": "4556e824-3c05-4486-e3a9-61cd2353690b"
      },
      "source": [
        "data.info()"
      ],
      "execution_count": null,
      "outputs": [
        {
          "output_type": "stream",
          "text": [
            "<class 'pandas.core.frame.DataFrame'>\n",
            "Int64Index: 15746 entries, 0 to 15745\n",
            "Data columns (total 3 columns):\n",
            " #   Column      Non-Null Count  Dtype \n",
            "---  ------      --------------  ----- \n",
            " 0   content     15746 non-null  object\n",
            " 1   Polarity    15746 non-null  object\n",
            " 2   clean_text  15737 non-null  object\n",
            "dtypes: object(3)\n",
            "memory usage: 492.1+ KB\n"
          ],
          "name": "stdout"
        }
      ]
    },
    {
      "cell_type": "code",
      "metadata": {
        "colab": {
          "base_uri": "https://localhost:8080/"
        },
        "id": "ilvOx2gcdMUv",
        "outputId": "bf083f93-8a1e-4ab0-edca-f5419f9403cd"
      },
      "source": [
        "data.isnull().sum()"
      ],
      "execution_count": null,
      "outputs": [
        {
          "output_type": "execute_result",
          "data": {
            "text/plain": [
              "content       0\n",
              "Polarity      0\n",
              "clean_text    9\n",
              "dtype: int64"
            ]
          },
          "metadata": {
            "tags": []
          },
          "execution_count": 85
        }
      ]
    },
    {
      "cell_type": "code",
      "metadata": {
        "colab": {
          "base_uri": "https://localhost:8080/",
          "height": 196
        },
        "id": "X9Kl0aZzdOrn",
        "outputId": "85d24362-56c0-43d9-8a95-7743f698835b"
      },
      "source": [
        "data.dropna(inplace=True)\r\n",
        "data.reset_index(inplace=True,drop=True)\r\n",
        "data.head()"
      ],
      "execution_count": null,
      "outputs": [
        {
          "output_type": "execute_result",
          "data": {
            "text/html": [
              "<div>\n",
              "<style scoped>\n",
              "    .dataframe tbody tr th:only-of-type {\n",
              "        vertical-align: middle;\n",
              "    }\n",
              "\n",
              "    .dataframe tbody tr th {\n",
              "        vertical-align: top;\n",
              "    }\n",
              "\n",
              "    .dataframe thead th {\n",
              "        text-align: right;\n",
              "    }\n",
              "</style>\n",
              "<table border=\"1\" class=\"dataframe\">\n",
              "  <thead>\n",
              "    <tr style=\"text-align: right;\">\n",
              "      <th></th>\n",
              "      <th>content</th>\n",
              "      <th>Polarity</th>\n",
              "      <th>clean_text</th>\n",
              "    </tr>\n",
              "  </thead>\n",
              "  <tbody>\n",
              "    <tr>\n",
              "      <th>0</th>\n",
              "      <td>Update: After getting a response from the deve...</td>\n",
              "      <td>Negative</td>\n",
              "      <td>update getting response developer would change...</td>\n",
              "    </tr>\n",
              "    <tr>\n",
              "      <th>1</th>\n",
              "      <td>Used it for a fair amount of time without any ...</td>\n",
              "      <td>Negative</td>\n",
              "      <td>used fair amount time without problem suddenly...</td>\n",
              "    </tr>\n",
              "    <tr>\n",
              "      <th>2</th>\n",
              "      <td>Your app sucks now!!!!! Used to be good but no...</td>\n",
              "      <td>Negative</td>\n",
              "      <td>app suck used good doesnt update physically op...</td>\n",
              "    </tr>\n",
              "    <tr>\n",
              "      <th>3</th>\n",
              "      <td>It seems OK, but very basic. Recurring tasks n...</td>\n",
              "      <td>Negative</td>\n",
              "      <td>seems ok basic recurring task need work actual...</td>\n",
              "    </tr>\n",
              "    <tr>\n",
              "      <th>4</th>\n",
              "      <td>Absolutely worthless. This app runs a prohibit...</td>\n",
              "      <td>Negative</td>\n",
              "      <td>absolutely worthless app run prohibitively clu...</td>\n",
              "    </tr>\n",
              "  </tbody>\n",
              "</table>\n",
              "</div>"
            ],
            "text/plain": [
              "                                             content  ...                                         clean_text\n",
              "0  Update: After getting a response from the deve...  ...  update getting response developer would change...\n",
              "1  Used it for a fair amount of time without any ...  ...  used fair amount time without problem suddenly...\n",
              "2  Your app sucks now!!!!! Used to be good but no...  ...  app suck used good doesnt update physically op...\n",
              "3  It seems OK, but very basic. Recurring tasks n...  ...  seems ok basic recurring task need work actual...\n",
              "4  Absolutely worthless. This app runs a prohibit...  ...  absolutely worthless app run prohibitively clu...\n",
              "\n",
              "[5 rows x 3 columns]"
            ]
          },
          "metadata": {
            "tags": []
          },
          "execution_count": 99
        }
      ]
    },
    {
      "cell_type": "code",
      "metadata": {
        "colab": {
          "base_uri": "https://localhost:8080/",
          "height": 196
        },
        "id": "waUEXRSWdQVn",
        "outputId": "8487279b-a624-4630-b625-dbff0712d43e"
      },
      "source": [
        "from sklearn.preprocessing import LabelEncoder\r\n",
        "le=LabelEncoder()\r\n",
        "data[\"Polarity\"]=le.fit_transform(data[\"Polarity\"])\r\n",
        "data.head()"
      ],
      "execution_count": null,
      "outputs": [
        {
          "output_type": "execute_result",
          "data": {
            "text/html": [
              "<div>\n",
              "<style scoped>\n",
              "    .dataframe tbody tr th:only-of-type {\n",
              "        vertical-align: middle;\n",
              "    }\n",
              "\n",
              "    .dataframe tbody tr th {\n",
              "        vertical-align: top;\n",
              "    }\n",
              "\n",
              "    .dataframe thead th {\n",
              "        text-align: right;\n",
              "    }\n",
              "</style>\n",
              "<table border=\"1\" class=\"dataframe\">\n",
              "  <thead>\n",
              "    <tr style=\"text-align: right;\">\n",
              "      <th></th>\n",
              "      <th>content</th>\n",
              "      <th>Polarity</th>\n",
              "      <th>clean_text</th>\n",
              "    </tr>\n",
              "  </thead>\n",
              "  <tbody>\n",
              "    <tr>\n",
              "      <th>0</th>\n",
              "      <td>Update: After getting a response from the deve...</td>\n",
              "      <td>0</td>\n",
              "      <td>update getting response developer would change...</td>\n",
              "    </tr>\n",
              "    <tr>\n",
              "      <th>1</th>\n",
              "      <td>Used it for a fair amount of time without any ...</td>\n",
              "      <td>0</td>\n",
              "      <td>used fair amount time without problem suddenly...</td>\n",
              "    </tr>\n",
              "    <tr>\n",
              "      <th>2</th>\n",
              "      <td>Your app sucks now!!!!! Used to be good but no...</td>\n",
              "      <td>0</td>\n",
              "      <td>app suck used good doesnt update physically op...</td>\n",
              "    </tr>\n",
              "    <tr>\n",
              "      <th>3</th>\n",
              "      <td>It seems OK, but very basic. Recurring tasks n...</td>\n",
              "      <td>0</td>\n",
              "      <td>seems ok basic recurring task need work actual...</td>\n",
              "    </tr>\n",
              "    <tr>\n",
              "      <th>4</th>\n",
              "      <td>Absolutely worthless. This app runs a prohibit...</td>\n",
              "      <td>0</td>\n",
              "      <td>absolutely worthless app run prohibitively clu...</td>\n",
              "    </tr>\n",
              "  </tbody>\n",
              "</table>\n",
              "</div>"
            ],
            "text/plain": [
              "                                             content  ...                                         clean_text\n",
              "0  Update: After getting a response from the deve...  ...  update getting response developer would change...\n",
              "1  Used it for a fair amount of time without any ...  ...  used fair amount time without problem suddenly...\n",
              "2  Your app sucks now!!!!! Used to be good but no...  ...  app suck used good doesnt update physically op...\n",
              "3  It seems OK, but very basic. Recurring tasks n...  ...  seems ok basic recurring task need work actual...\n",
              "4  Absolutely worthless. This app runs a prohibit...  ...  absolutely worthless app run prohibitively clu...\n",
              "\n",
              "[5 rows x 3 columns]"
            ]
          },
          "metadata": {
            "tags": []
          },
          "execution_count": 100
        }
      ]
    },
    {
      "cell_type": "code",
      "metadata": {
        "colab": {
          "base_uri": "https://localhost:8080/"
        },
        "id": "mAmRXuLhdUMv",
        "outputId": "b837cdf2-3487-45e3-bbc0-66b8a0cd7792"
      },
      "source": [
        "data.Polarity.value_counts().rename({2:'Positive',0:'Negative',1:'Neutral'})"
      ],
      "execution_count": null,
      "outputs": [
        {
          "output_type": "execute_result",
          "data": {
            "text/plain": [
              "Positive    5674\n",
              "Neutral     5037\n",
              "Negative    5026\n",
              "Name: Polarity, dtype: int64"
            ]
          },
          "metadata": {
            "tags": []
          },
          "execution_count": 101
        }
      ]
    },
    {
      "cell_type": "markdown",
      "metadata": {
        "id": "Cpw_nsbzeEWf"
      },
      "source": [
        "## Encoding the raw text"
      ]
    },
    {
      "cell_type": "markdown",
      "metadata": {
        "id": "e5rHgBWheJkT"
      },
      "source": [
        "[Tokenization](https://huggingface.co/transformers/main_classes/tokenizer.html) is a process to take raw texts and split into tokens, which are numeric data to represent words.\r\n",
        "\r\n",
        "Official [BERT](https://huggingface.co/transformers/main_classes/tokenizer.html) language models are pre-trained with WordPiece vocabulary and use, not just token embeddings, but also segment embeddings distinguish between sequences, which are in pairs, e.g. question answering examples. Position embeddings are needed in order to inject positional awareness into the BERT model as the attention mechanism does not consider positions in context evaluation.\r\n",
        "\r\n",
        "The important limitation of BERT to be aware of is that the maximum length of the sequence for BERT is 512 tokens. For shorter sequence input than the maximum allowed input size, we would need to add pad tokens [PAD]. On the other hand, if the sequence is longer, we need to cut the sequence. This BERT limitation on the maximum length of the sequence is something that you need to be aware of for longer text segments.\r\n",
        "\r\n",
        "Very important are also the so-called special tokens, e.g. [CLS] token and [SEP] tokens. The [CLS] token will be inserted at the beginning of the sequence, the [SEP] token is at the end. If we deal with sequence pairs we will add additional [SEP] token at the end of the last."
      ]
    },
    {
      "cell_type": "code",
      "metadata": {
        "id": "1yngo2ZBdZZH"
      },
      "source": [
        "vocab_file = bert_layer.resolved_object.vocab_file.asset_path.numpy()\r\n",
        "do_lower_case = bert_layer.resolved_object.do_lower_case.numpy()\r\n",
        "tokenizer = tokenization.FullTokenizer(vocab_file, do_lower_case)"
      ],
      "execution_count": null,
      "outputs": []
    },
    {
      "cell_type": "code",
      "metadata": {
        "id": "gmJbwLZNfGfX"
      },
      "source": [
        "def bert_encode(texts, tokenizer, max_len=512):\r\n",
        "    all_tokens = []\r\n",
        "    all_masks = []\r\n",
        "    all_segments = []\r\n",
        "    \r\n",
        "    for text in texts:\r\n",
        "        text = tokenizer.tokenize(text)\r\n",
        "            \r\n",
        "        text = text[:max_len-2]\r\n",
        "        input_sequence = [\"[CLS]\"] + text + [\"[SEP]\"]\r\n",
        "        pad_len = max_len - len(input_sequence)\r\n",
        "        \r\n",
        "        tokens = tokenizer.convert_tokens_to_ids(input_sequence) + [0] * pad_len\r\n",
        "        pad_masks = [1] * len(input_sequence) + [0] * pad_len\r\n",
        "        segment_ids = [0] * max_len\r\n",
        "        \r\n",
        "        all_tokens.append(tokens)\r\n",
        "        all_masks.append(pad_masks)\r\n",
        "        all_segments.append(segment_ids)\r\n",
        "    \r\n",
        "    return np.array(all_tokens), np.array(all_masks), np.array(all_segments)"
      ],
      "execution_count": null,
      "outputs": []
    },
    {
      "cell_type": "markdown",
      "metadata": {
        "id": "L5YcO_YZf9fk"
      },
      "source": [
        "# Build the Model"
      ]
    },
    {
      "cell_type": "code",
      "metadata": {
        "id": "4pIFS6mffcfV"
      },
      "source": [
        "def build_model(bert_layer, max_len=512):\r\n",
        "    input_word_ids = tf.keras.Input(shape=(max_len,), dtype=tf.int32, name=\"input_word_ids\")\r\n",
        "    input_mask = tf.keras.Input(shape=(max_len,), dtype=tf.int32, name=\"input_mask\")\r\n",
        "    segment_ids = tf.keras.Input(shape=(max_len,), dtype=tf.int32, name=\"segment_ids\")\r\n",
        "\r\n",
        "    pooled_output, sequence_output = bert_layer([input_word_ids, input_mask, segment_ids])\r\n",
        "    clf_output = sequence_output[:, 0, :]\r\n",
        "    net = tf.keras.layers.Dense(64, activation='relu')(clf_output)\r\n",
        "    net = tf.keras.layers.Dropout(0.2)(net)\r\n",
        "    net = tf.keras.layers.Dense(32, activation='relu')(net)\r\n",
        "    net = tf.keras.layers.Dropout(0.2)(net)\r\n",
        "    out = tf.keras.layers.Dense(3, activation='softmax')(net)\r\n",
        "    \r\n",
        "    model = tf.keras.models.Model(inputs=[input_word_ids, input_mask, segment_ids], outputs=out)\r\n",
        "    model.compile(tf.keras.optimizers.Adam(lr=1e-5), loss='categorical_crossentropy', metrics=['accuracy'])\r\n",
        "    \r\n",
        "    return model"
      ],
      "execution_count": null,
      "outputs": []
    },
    {
      "cell_type": "markdown",
      "metadata": {
        "id": "5sdkztnXo8P0"
      },
      "source": [
        "ReLu: The Rectified Linear Unit is the most commonly used activation function in deep learning models. The function returns 0 if it receives any negative input, but for any positive value, it returns that value back.\r\n",
        "\r\n",
        "Softmax: The function is great for classification problems, especially if we’re dealing with multi-class classification problems, as it will report back the “confidence score” for each class. Since we’re dealing with probabilities here, the scores returned by the softmax function will add up to 1.\r\n"
      ]
    },
    {
      "cell_type": "markdown",
      "metadata": {
        "id": "164QRPSdpaPJ"
      },
      "source": [
        "We check only the first 150 characters of each review.\r\n",
        "\r\n",
        "You can also increase this length, but the running time will increase too\r\n",
        "\r\n",
        "number of categories=3(bug,feature,question)"
      ]
    },
    {
      "cell_type": "code",
      "metadata": {
        "id": "6iMcR-8DwPb4"
      },
      "source": [
        "data[\"Polarity\"]=data.Polarity.astype(str)"
      ],
      "execution_count": null,
      "outputs": []
    },
    {
      "cell_type": "code",
      "metadata": {
        "colab": {
          "base_uri": "https://localhost:8080/"
        },
        "id": "1ym3dmCVpqQV",
        "outputId": "8f62aaff-46a9-4187-ad22-0b973b2db9bc"
      },
      "source": [
        "from sklearn.model_selection import train_test_split\r\n",
        "train,test = train_test_split(data, test_size=0.2, random_state=42)\r\n",
        "train[\"clean_text\"] = (train['clean_text'].map(str)).apply(lambda row: row.strip())\r\n",
        "test[\"clean_text\"] = (test['clean_text'].map(str)).apply(lambda row: row.strip())"
      ],
      "execution_count": null,
      "outputs": [
        {
          "output_type": "stream",
          "text": [
            "/usr/local/lib/python3.7/dist-packages/ipykernel_launcher.py:3: SettingWithCopyWarning: \n",
            "A value is trying to be set on a copy of a slice from a DataFrame.\n",
            "Try using .loc[row_indexer,col_indexer] = value instead\n",
            "\n",
            "See the caveats in the documentation: https://pandas.pydata.org/pandas-docs/stable/user_guide/indexing.html#returning-a-view-versus-a-copy\n",
            "  This is separate from the ipykernel package so we can avoid doing imports until\n",
            "/usr/local/lib/python3.7/dist-packages/ipykernel_launcher.py:4: SettingWithCopyWarning: \n",
            "A value is trying to be set on a copy of a slice from a DataFrame.\n",
            "Try using .loc[row_indexer,col_indexer] = value instead\n",
            "\n",
            "See the caveats in the documentation: https://pandas.pydata.org/pandas-docs/stable/user_guide/indexing.html#returning-a-view-versus-a-copy\n",
            "  after removing the cwd from sys.path.\n"
          ],
          "name": "stderr"
        }
      ]
    },
    {
      "cell_type": "code",
      "metadata": {
        "id": "1TB5KpDqo_Hy"
      },
      "source": [
        "from tensorflow.keras.utils import to_categorical\r\n",
        "max_len = 150\r\n",
        "train_input = bert_encode(train.clean_text.values, tokenizer, max_len=max_len)\r\n",
        "test_input = bert_encode(test.clean_text.values, tokenizer, max_len=max_len)\r\n",
        "train_labels = to_categorical(train.Polarity.values, num_classes=3)\r\n"
      ],
      "execution_count": null,
      "outputs": []
    },
    {
      "cell_type": "code",
      "metadata": {
        "id": "_dIAVAy3Opoy"
      },
      "source": [
        "test_labels = to_categorical(test.Polarity.values, num_classes=3)\r\n"
      ],
      "execution_count": null,
      "outputs": []
    },
    {
      "cell_type": "code",
      "metadata": {
        "colab": {
          "base_uri": "https://localhost:8080/"
        },
        "id": "yCJ7lFNHqVXT",
        "outputId": "c1d02c85-3ea7-4555-cff6-67b2ae4000c3"
      },
      "source": [
        "model= build_model(bert_layer, max_len= max_len)\r\n",
        "model.summary()"
      ],
      "execution_count": null,
      "outputs": [
        {
          "output_type": "stream",
          "text": [
            "Model: \"model\"\n",
            "__________________________________________________________________________________________________\n",
            "Layer (type)                    Output Shape         Param #     Connected to                     \n",
            "==================================================================================================\n",
            "input_word_ids (InputLayer)     [(None, 150)]        0                                            \n",
            "__________________________________________________________________________________________________\n",
            "input_mask (InputLayer)         [(None, 150)]        0                                            \n",
            "__________________________________________________________________________________________________\n",
            "segment_ids (InputLayer)        [(None, 150)]        0                                            \n",
            "__________________________________________________________________________________________________\n",
            "keras_layer (KerasLayer)        [(None, 768), (None, 109482241   input_word_ids[0][0]             \n",
            "                                                                 input_mask[0][0]                 \n",
            "                                                                 segment_ids[0][0]                \n",
            "__________________________________________________________________________________________________\n",
            "tf.__operators__.getitem (Slici (None, 768)          0           keras_layer[0][1]                \n",
            "__________________________________________________________________________________________________\n",
            "dense (Dense)                   (None, 64)           49216       tf.__operators__.getitem[0][0]   \n",
            "__________________________________________________________________________________________________\n",
            "dropout (Dropout)               (None, 64)           0           dense[0][0]                      \n",
            "__________________________________________________________________________________________________\n",
            "dense_1 (Dense)                 (None, 32)           2080        dropout[0][0]                    \n",
            "__________________________________________________________________________________________________\n",
            "dropout_1 (Dropout)             (None, 32)           0           dense_1[0][0]                    \n",
            "__________________________________________________________________________________________________\n",
            "dense_2 (Dense)                 (None, 3)            99          dropout_1[0][0]                  \n",
            "==================================================================================================\n",
            "Total params: 109,533,636\n",
            "Trainable params: 109,533,635\n",
            "Non-trainable params: 1\n",
            "__________________________________________________________________________________________________\n"
          ],
          "name": "stdout"
        }
      ]
    },
    {
      "cell_type": "code",
      "metadata": {
        "id": "JJvGj2A0r_iu",
        "colab": {
          "base_uri": "https://localhost:8080/",
          "height": 758
        },
        "outputId": "7ef9ab97-f764-4d58-f03b-73d666774616"
      },
      "source": [
        "tf.keras.utils.plot_model(model)"
      ],
      "execution_count": null,
      "outputs": [
        {
          "output_type": "execute_result",
          "data": {
            "image/png": "[encoded data removed]",
            "text/plain": [
              "<IPython.core.display.Image object>"
            ]
          },
          "metadata": {
            "tags": []
          },
          "execution_count": 22
        }
      ]
    },
    {
      "cell_type": "code",
      "metadata": {
        "colab": {
          "base_uri": "https://localhost:8080/",
          "height": 441
        },
        "id": "Xi6AUG8NopMw",
        "outputId": "780d10cb-dc2c-4b4a-ebbc-b1cbb7f534bf"
      },
      "source": [
        "tf.keras.utils.plot_model(model, show_shapes=True, dpi=48)"
      ],
      "execution_count": null,
      "outputs": [
        {
          "output_type": "execute_result",
          "data": {
            "image/png": "[encoded data removed]",
            "text/plain": [
              "<IPython.core.display.Image object>"
            ]
          },
          "metadata": {
            "tags": []
          },
          "execution_count": 23
        }
      ]
    },
    {
      "cell_type": "code",
      "metadata": {
        "id": "4rGs_A9eozsy"
      },
      "source": [
        "from tensorflow.keras.callbacks import ReduceLROnPlateau, EarlyStopping"
      ],
      "execution_count": null,
      "outputs": []
    },
    {
      "cell_type": "code",
      "metadata": {
        "colab": {
          "base_uri": "https://localhost:8080/"
        },
        "id": "9xfw5WT-prK9",
        "outputId": "21bc4026-5e68-422c-9f76-faa864b5154f"
      },
      "source": [
        "%%time\r\n",
        "checkpoint = tf.keras.callbacks.ModelCheckpoint('/content/drive/MyDrive/Sentiment Analysis_Preskale/model.h5', monitor='val_accuracy', save_best_only=True, verbose=2)\r\n",
        "earlystopping = tf.keras.callbacks.EarlyStopping(monitor='val_accuracy', patience=3, verbose=2)\r\n",
        "\r\n",
        "train_history = model.fit(\r\n",
        "    train_input, train_labels, \r\n",
        "    validation_split=0.2,\r\n",
        "    epochs=35,\r\n",
        "    callbacks=[checkpoint, earlystopping],\r\n",
        "    batch_size=32,\r\n",
        "    verbose=1\r\n",
        ")"
      ],
      "execution_count": null,
      "outputs": [
        {
          "output_type": "stream",
          "text": [
            "Epoch 1/35\n",
            "315/315 [==============================] - 323s 1s/step - loss: 0.0912 - accuracy: 0.9687 - val_loss: 1.1785 - val_accuracy: 0.7979\n",
            "\n",
            "Epoch 00001: val_accuracy improved from -inf to 0.79786, saving model to /content/drive/MyDrive/Sentiment Analysis_Preskale/model.h5\n",
            "Epoch 2/35\n",
            "315/315 [==============================] - 323s 1s/step - loss: 0.0853 - accuracy: 0.9697 - val_loss: 1.2301 - val_accuracy: 0.7947\n",
            "\n",
            "Epoch 00002: val_accuracy did not improve from 0.79786\n",
            "Epoch 3/35\n",
            "315/315 [==============================] - 323s 1s/step - loss: 0.0858 - accuracy: 0.9701 - val_loss: 1.2564 - val_accuracy: 0.8018\n",
            "\n",
            "Epoch 00003: val_accuracy improved from 0.79786 to 0.80183, saving model to /content/drive/MyDrive/Sentiment Analysis_Preskale/model.h5\n",
            "Epoch 4/35\n",
            "315/315 [==============================] - 323s 1s/step - loss: 0.0737 - accuracy: 0.9736 - val_loss: 1.3082 - val_accuracy: 0.7927\n",
            "\n",
            "Epoch 00004: val_accuracy did not improve from 0.80183\n",
            "Epoch 5/35\n",
            "315/315 [==============================] - 323s 1s/step - loss: 0.0753 - accuracy: 0.9724 - val_loss: 1.3586 - val_accuracy: 0.7851\n",
            "\n",
            "Epoch 00005: val_accuracy did not improve from 0.80183\n",
            "Epoch 6/35\n",
            "315/315 [==============================] - 323s 1s/step - loss: 0.0665 - accuracy: 0.9750 - val_loss: 1.2887 - val_accuracy: 0.7951\n",
            "\n",
            "Epoch 00006: val_accuracy did not improve from 0.80183\n",
            "Epoch 00006: early stopping\n",
            "CPU times: user 11min 11s, sys: 9min 58s, total: 21min 10s\n",
            "Wall time: 33min 29s\n"
          ],
          "name": "stdout"
        }
      ]
    },
    {
      "cell_type": "code",
      "metadata": {
        "colab": {
          "base_uri": "https://localhost:8080/"
        },
        "id": "eGpmvsgYNhB5",
        "outputId": "6498b955-32c7-46bf-809e-9b2f3db0645a"
      },
      "source": [
        "%%time\r\n",
        "score = model.evaluate(test_input,test_labels, batch_size=32)\r\n",
        "print()\r\n",
        "print(\"ACCURACY:\",score[1])\r\n",
        "print(\"LOSS:\",score[0])"
      ],
      "execution_count": null,
      "outputs": [
        {
          "output_type": "stream",
          "text": [
            "99/99 [==============================] - 33s 333ms/step - loss: 1.3394 - accuracy: 0.7865\n",
            "\n",
            "ACCURACY: 0.7865311503410339\n",
            "LOSS: 1.339408040046692\n",
            "CPU times: user 2.59 s, sys: 1.76 s, total: 4.35 s\n",
            "Wall time: 33.1 s\n"
          ],
          "name": "stdout"
        }
      ]
    },
    {
      "cell_type": "code",
      "metadata": {
        "colab": {
          "base_uri": "https://localhost:8080/",
          "height": 540
        },
        "id": "IaLIIhz_QFWN",
        "outputId": "81b34af7-ef3a-44b5-bde1-65cc27dd412b"
      },
      "source": [
        "from google.colab import files\r\n",
        "import matplotlib.pyplot as plt\r\n",
        " \r\n",
        "fig=plt.figure(figsize=(15,8))\r\n",
        "plt.title(\"MODEL PERFORMANCE ON TRAINING & VALIDATION SETS \\n (BERT Tf_Hub)\",fontsize= 20)\r\n",
        "fig1=fig.add_subplot(121)\r\n",
        "plt.plot(train_history.history['accuracy'],color='Green')\r\n",
        "plt.plot(train_history.history[\"val_accuracy\"],color='red')\r\n",
        "# plt.ylim(0.90, 1.05)\r\n",
        "plt.xlabel(\"epoch\")\r\n",
        "plt.ylabel(\"accuracies\")\r\n",
        "plt.legend(['Train accuracy','Validation Accuracy'])\r\n",
        "\r\n",
        "fig2=fig.add_subplot(122)\r\n",
        "plt.plot(train_history.history[\"loss\"],color='g')\r\n",
        "plt.plot(train_history.history[\"val_loss\"],color='r')\r\n",
        "# plt.ylim(0.0, 1)\r\n",
        "plt.xlabel(\"epoch\")\r\n",
        "plt.ylabel(\"Losses\")\r\n",
        "\r\n",
        "plt.legend(['Train_Loss','Val_Loss'])\r\n",
        "\r\n",
        "plt.show()\r\n",
        "# files.download( \"Model Performance.jpg\" ) "
      ],
      "execution_count": null,
      "outputs": [
        {
          "output_type": "display_data",
          "data": {
            "image/png": "[encoded data removed]",
            "text/plain": [
              "<Figure size 1080x576 with 3 Axes>"
            ]
          },
          "metadata": {
            "tags": [],
            "needs_background": "light"
          }
        }
      ]
    },
    {
      "cell_type": "code",
      "metadata": {
        "id": "a0GfmiuMqBEl"
      },
      "source": [
        "model.save(\"/content/drive/MyDrive/Sentiment Analysis_Preskale/BERT Multi_Class_model.h5\") # -- MODEL.h5  WORKS BECAUSE IT IS A FUNCTIONAL MODEL, SEQUENCE MODEL NOT THE SUBCLASSED MODEL. "
      ],
      "execution_count": null,
      "outputs": []
    },
    {
      "cell_type": "code",
      "metadata": {
        "id": "E6ClZYXcS-JT"
      },
      "source": [
        "model.load_weights(\"/content/drive/MyDrive/Sentiment Analysis_Preskale/model.h5\")"
      ],
      "execution_count": null,
      "outputs": []
    },
    {
      "cell_type": "code",
      "metadata": {
        "colab": {
          "base_uri": "https://localhost:8080/"
        },
        "id": "lRwNTyhKp_tV",
        "outputId": "bbcf52c0-5b0d-40a7-ed71-f4be9f89a6e1"
      },
      "source": [
        "test_pred = model.predict(test_input)\r\n",
        "test_pred"
      ],
      "execution_count": null,
      "outputs": [
        {
          "output_type": "execute_result",
          "data": {
            "text/plain": [
              "array([[9.99862671e-01, 1.00699755e-04, 3.65515334e-05],\n",
              "       [1.45830843e-03, 9.98356640e-01, 1.85063604e-04],\n",
              "       [7.61307962e-03, 7.56099820e-01, 2.36287087e-01],\n",
              "       ...,\n",
              "       [7.57685120e-05, 9.99868870e-01, 5.52859165e-05],\n",
              "       [1.48851480e-02, 2.87321419e-01, 6.97793484e-01],\n",
              "       [9.99749720e-01, 2.17203968e-04, 3.30958901e-05]], dtype=float32)"
            ]
          },
          "metadata": {
            "tags": []
          },
          "execution_count": 23
        }
      ]
    },
    {
      "cell_type": "code",
      "metadata": {
        "colab": {
          "base_uri": "https://localhost:8080/"
        },
        "id": "ruIkg1m_M1fJ",
        "outputId": "4ab134ac-baa0-443f-9667-6fe8677ab71d"
      },
      "source": [
        "y_pred= np.argmax(test_pred,axis=1)\r\n",
        "y_pred"
      ],
      "execution_count": null,
      "outputs": [
        {
          "output_type": "execute_result",
          "data": {
            "text/plain": [
              "array([0, 1, 1, ..., 1, 2, 0])"
            ]
          },
          "metadata": {
            "tags": []
          },
          "execution_count": 24
        }
      ]
    },
    {
      "cell_type": "code",
      "metadata": {
        "id": "Z6LdXhYcNJMU"
      },
      "source": [
        "\r\n",
        "from sklearn.metrics import accuracy_score\r\n",
        "from sklearn.metrics import classification_report\r\n",
        "from mlxtend.evaluate import confusion_matrix\r\n",
        "import matplotlib.pyplot as plt"
      ],
      "execution_count": null,
      "outputs": []
    },
    {
      "cell_type": "code",
      "metadata": {
        "colab": {
          "base_uri": "https://localhost:8080/"
        },
        "id": "InIiAZxZVq1G",
        "outputId": "776bbdcb-2010-4f10-9b05-ec78b43dbd08"
      },
      "source": [
        "print(test[\"Polarity\"].shape)\r\n",
        "y_pred.shape"
      ],
      "execution_count": null,
      "outputs": [
        {
          "output_type": "stream",
          "text": [
            "(3148,)\n"
          ],
          "name": "stdout"
        },
        {
          "output_type": "execute_result",
          "data": {
            "text/plain": [
              "(3148,)"
            ]
          },
          "metadata": {
            "tags": []
          },
          "execution_count": 34
        }
      ]
    },
    {
      "cell_type": "code",
      "metadata": {
        "id": "cg-R9e2TXV--"
      },
      "source": [
        "y_test = list(test[\"Polarity\"].values.astype(int))\r\n",
        "y_pred  = list(y_pred)"
      ],
      "execution_count": null,
      "outputs": []
    },
    {
      "cell_type": "code",
      "metadata": {
        "colab": {
          "base_uri": "https://localhost:8080/"
        },
        "id": "s2gyWHJlXFqc",
        "outputId": "cabebb87-fdfe-4249-d33c-5bfeca4e052e"
      },
      "source": [
        "print(y_test)"
      ],
      "execution_count": null,
      "outputs": [
        {
          "output_type": "stream",
          "text": [
            "[0, 0, 2, 2, 0, 1, 2, 2, 1, 2, 2, 0, 0, 2, 2, 2, 1, 0, 0, 2, 0, 2, 2, 0, 2, 1, 0, 0, 1, 0, 1, 0, 2, 0, 2, 0, 0, 1, 0, 2, 1, 2, 1, 2, 2, 1, 0, 1, 2, 1, 1, 2, 0, 1, 1, 0, 2, 0, 0, 1, 2, 2, 0, 0, 1, 1, 0, 1, 2, 0, 0, 1, 0, 0, 1, 2, 0, 1, 0, 1, 1, 0, 0, 2, 0, 0, 1, 2, 1, 2, 0, 0, 2, 1, 1, 1, 0, 1, 2, 2, 1, 0, 1, 2, 1, 0, 2, 0, 1, 0, 0, 2, 0, 1, 2, 1, 1, 1, 2, 2, 0, 1, 0, 1, 2, 2, 1, 1, 1, 0, 2, 2, 1, 1, 2, 2, 1, 1, 2, 0, 2, 0, 0, 1, 0, 0, 1, 1, 2, 0, 1, 2, 0, 1, 0, 2, 1, 2, 1, 2, 2, 1, 1, 1, 0, 1, 2, 0, 0, 0, 1, 2, 0, 1, 0, 0, 0, 1, 0, 2, 2, 0, 1, 0, 1, 1, 2, 2, 1, 1, 0, 0, 0, 1, 2, 2, 0, 1, 0, 0, 2, 1, 2, 0, 2, 0, 2, 2, 0, 0, 0, 1, 2, 2, 2, 1, 2, 0, 0, 2, 1, 2, 2, 1, 0, 0, 0, 1, 0, 2, 1, 2, 1, 1, 1, 0, 0, 2, 0, 2, 2, 2, 0, 1, 2, 2, 2, 2, 2, 1, 1, 0, 1, 1, 1, 1, 0, 0, 2, 1, 2, 1, 0, 2, 1, 0, 1, 2, 1, 2, 2, 2, 0, 1, 1, 1, 0, 0, 2, 0, 1, 0, 1, 0, 2, 0, 1, 0, 0, 1, 2, 0, 0, 2, 2, 2, 2, 0, 2, 1, 0, 0, 2, 2, 1, 1, 0, 2, 2, 2, 0, 1, 2, 2, 2, 0, 0, 2, 2, 1, 2, 2, 0, 2, 0, 1, 1, 1, 2, 1, 1, 1, 1, 1, 2, 1, 0, 2, 1, 0, 1, 2, 1, 0, 2, 2, 0, 2, 2, 2, 1, 2, 2, 2, 2, 0, 0, 1, 1, 0, 0, 0, 0, 2, 0, 2, 1, 2, 1, 0, 2, 0, 1, 0, 0, 1, 2, 2, 2, 1, 2, 1, 0, 1, 0, 1, 1, 2, 0, 0, 0, 1, 2, 2, 1, 2, 1, 0, 1, 2, 1, 2, 1, 0, 2, 0, 2, 0, 2, 2, 1, 0, 2, 0, 1, 0, 0, 1, 0, 0, 2, 0, 2, 2, 1, 2, 0, 0, 1, 2, 1, 2, 1, 1, 0, 1, 1, 0, 1, 2, 1, 1, 2, 2, 2, 2, 0, 1, 0, 1, 0, 2, 0, 2, 0, 2, 1, 2, 0, 0, 1, 2, 2, 1, 1, 0, 0, 1, 1, 0, 0, 1, 0, 2, 0, 1, 1, 2, 1, 0, 0, 2, 1, 1, 2, 0, 2, 0, 1, 1, 2, 0, 0, 2, 1, 2, 1, 1, 0, 2, 2, 2, 2, 1, 1, 2, 1, 1, 2, 0, 2, 2, 0, 1, 2, 2, 1, 0, 1, 1, 1, 1, 0, 2, 1, 0, 1, 0, 0, 0, 0, 1, 1, 2, 2, 2, 0, 1, 2, 2, 2, 1, 2, 2, 1, 0, 0, 2, 1, 0, 2, 1, 0, 2, 2, 1, 2, 0, 0, 0, 1, 2, 0, 1, 1, 0, 2, 0, 0, 1, 0, 2, 0, 2, 0, 0, 1, 2, 1, 1, 1, 2, 2, 0, 0, 1, 2, 1, 1, 2, 2, 2, 1, 1, 2, 1, 2, 2, 0, 0, 0, 2, 0, 0, 1, 1, 1, 0, 2, 2, 2, 1, 1, 1, 2, 1, 1, 2, 2, 2, 2, 2, 0, 2, 2, 0, 2, 2, 0, 0, 0, 2, 0, 1, 0, 0, 2, 0, 2, 0, 1, 2, 1, 1, 1, 1, 0, 2, 0, 2, 0, 2, 2, 2, 0, 0, 0, 2, 2, 2, 1, 1, 1, 2, 1, 0, 0, 2, 2, 0, 2, 0, 0, 1, 2, 2, 2, 1, 1, 0, 0, 1, 1, 0, 2, 0, 1, 0, 2, 2, 1, 0, 1, 0, 1, 1, 0, 2, 2, 2, 2, 2, 2, 0, 2, 1, 0, 1, 2, 0, 2, 2, 2, 0, 2, 0, 2, 1, 2, 2, 2, 1, 2, 0, 1, 2, 0, 2, 1, 0, 1, 0, 1, 2, 0, 0, 2, 0, 1, 0, 1, 0, 2, 1, 0, 1, 0, 2, 2, 2, 1, 0, 2, 0, 0, 2, 0, 1, 1, 2, 2, 2, 0, 2, 1, 0, 1, 2, 0, 0, 2, 1, 2, 2, 2, 0, 2, 1, 0, 1, 1, 1, 2, 0, 2, 1, 2, 1, 2, 2, 1, 0, 0, 1, 2, 1, 0, 2, 2, 0, 2, 2, 1, 0, 1, 0, 2, 0, 0, 0, 1, 1, 1, 1, 0, 1, 2, 1, 2, 1, 2, 2, 0, 2, 0, 2, 0, 2, 2, 1, 0, 1, 0, 1, 2, 0, 1, 0, 1, 2, 0, 1, 2, 2, 0, 1, 1, 0, 2, 1, 1, 0, 1, 1, 0, 2, 2, 2, 0, 2, 0, 1, 1, 2, 2, 0, 2, 1, 2, 2, 0, 0, 0, 0, 0, 2, 0, 0, 1, 2, 1, 1, 1, 1, 0, 1, 2, 1, 2, 1, 1, 2, 2, 1, 2, 0, 2, 2, 1, 1, 2, 0, 1, 1, 1, 2, 2, 1, 0, 0, 1, 0, 0, 2, 2, 2, 1, 2, 1, 1, 0, 1, 1, 0, 0, 1, 0, 1, 2, 0, 1, 1, 0, 2, 2, 1, 2, 1, 0, 1, 0, 0, 2, 0, 1, 2, 1, 2, 2, 2, 2, 2, 2, 1, 2, 0, 0, 2, 0, 1, 1, 1, 2, 1, 1, 0, 2, 2, 1, 1, 2, 0, 1, 0, 2, 0, 2, 0, 1, 2, 0, 0, 2, 0, 1, 2, 2, 2, 1, 1, 2, 2, 2, 0, 0, 2, 1, 1, 2, 1, 1, 0, 0, 0, 0, 1, 1, 2, 0, 1, 0, 0, 2, 1, 2, 0, 0, 0, 2, 2, 0, 1, 2, 2, 2, 2, 2, 0, 1, 1, 1, 1, 2, 0, 2, 0, 2, 1, 2, 1, 2, 2, 0, 2, 1, 2, 1, 0, 0, 2, 2, 0, 2, 2, 2, 1, 2, 2, 1, 1, 1, 1, 1, 2, 0, 0, 2, 2, 0, 2, 2, 0, 2, 0, 2, 1, 2, 1, 0, 1, 2, 2, 2, 2, 0, 0, 1, 0, 1, 2, 1, 2, 2, 1, 0, 1, 2, 2, 2, 2, 2, 1, 0, 1, 0, 0, 2, 0, 1, 2, 0, 0, 0, 1, 1, 2, 0, 0, 1, 1, 2, 1, 2, 2, 2, 1, 1, 0, 1, 1, 2, 0, 1, 0, 1, 1, 1, 2, 0, 2, 0, 2, 0, 0, 1, 2, 2, 2, 0, 0, 1, 1, 0, 2, 2, 1, 0, 1, 2, 2, 2, 1, 2, 1, 1, 1, 1, 0, 2, 0, 1, 0, 2, 1, 2, 0, 2, 0, 2, 0, 1, 0, 1, 0, 1, 1, 0, 0, 2, 2, 2, 0, 2, 0, 1, 1, 2, 1, 0, 0, 2, 2, 1, 0, 1, 1, 0, 2, 2, 0, 1, 1, 0, 0, 2, 1, 0, 1, 1, 2, 0, 2, 1, 2, 1, 1, 1, 0, 0, 0, 0, 1, 2, 1, 2, 1, 1, 2, 2, 0, 0, 0, 1, 1, 0, 2, 0, 0, 0, 0, 0, 0, 0, 0, 2, 0, 0, 2, 1, 0, 0, 0, 2, 0, 1, 0, 0, 2, 2, 1, 0, 0, 2, 2, 0, 1, 1, 2, 2, 0, 0, 0, 0, 0, 1, 0, 2, 1, 2, 0, 2, 0, 0, 2, 2, 1, 1, 2, 1, 2, 2, 1, 1, 0, 1, 0, 1, 0, 0, 0, 0, 0, 0, 2, 1, 0, 1, 0, 2, 2, 1, 2, 1, 0, 2, 0, 1, 1, 2, 2, 0, 2, 1, 1, 1, 1, 2, 1, 2, 2, 0, 2, 1, 2, 2, 0, 0, 0, 2, 1, 0, 0, 1, 2, 0, 1, 2, 2, 2, 2, 1, 2, 2, 2, 0, 1, 2, 2, 0, 0, 2, 1, 1, 2, 2, 1, 2, 1, 2, 0, 2, 2, 0, 0, 0, 1, 0, 1, 2, 0, 1, 2, 0, 2, 2, 0, 1, 2, 0, 2, 1, 1, 2, 2, 2, 0, 2, 1, 0, 2, 2, 1, 0, 2, 0, 2, 1, 2, 1, 0, 0, 2, 1, 2, 1, 1, 1, 1, 0, 2, 2, 0, 1, 2, 2, 0, 2, 2, 2, 2, 1, 0, 1, 0, 2, 0, 0, 0, 0, 2, 2, 0, 1, 0, 0, 1, 1, 2, 0, 2, 1, 1, 2, 2, 2, 2, 2, 0, 1, 2, 0, 1, 0, 2, 1, 1, 0, 1, 0, 2, 1, 0, 0, 2, 2, 0, 2, 2, 2, 0, 0, 2, 1, 0, 0, 1, 2, 2, 0, 0, 1, 0, 0, 2, 1, 2, 2, 2, 2, 0, 0, 2, 2, 1, 1, 2, 2, 1, 2, 2, 2, 2, 0, 1, 2, 2, 1, 2, 0, 2, 2, 0, 2, 0, 0, 1, 0, 2, 2, 2, 2, 2, 0, 0, 1, 2, 0, 2, 2, 0, 2, 2, 1, 1, 2, 1, 1, 2, 0, 2, 1, 0, 2, 1, 1, 1, 2, 1, 1, 2, 0, 2, 2, 1, 1, 0, 1, 0, 2, 0, 0, 2, 0, 0, 0, 1, 2, 1, 0, 2, 1, 2, 0, 2, 0, 0, 2, 0, 0, 1, 2, 1, 0, 2, 2, 0, 2, 0, 2, 1, 1, 0, 2, 0, 0, 0, 2, 1, 2, 1, 1, 1, 2, 0, 2, 2, 0, 0, 1, 1, 1, 1, 1, 1, 1, 2, 0, 2, 1, 0, 1, 1, 0, 1, 0, 2, 1, 2, 0, 0, 1, 0, 1, 0, 0, 0, 2, 2, 0, 1, 1, 0, 2, 1, 2, 0, 0, 1, 2, 2, 1, 2, 1, 2, 1, 1, 2, 0, 0, 0, 1, 1, 1, 2, 0, 0, 1, 0, 1, 0, 2, 0, 1, 0, 1, 1, 0, 2, 2, 2, 2, 0, 0, 2, 2, 1, 0, 0, 0, 2, 0, 0, 2, 2, 1, 1, 1, 1, 2, 2, 1, 2, 1, 2, 2, 0, 0, 0, 0, 0, 2, 0, 0, 0, 0, 0, 0, 0, 2, 0, 2, 2, 0, 2, 0, 1, 0, 2, 2, 0, 2, 2, 0, 2, 2, 2, 0, 0, 1, 0, 0, 2, 0, 0, 1, 2, 0, 2, 1, 0, 0, 2, 2, 0, 2, 0, 0, 2, 0, 0, 1, 2, 0, 0, 0, 1, 1, 0, 2, 2, 2, 1, 0, 1, 1, 2, 1, 2, 1, 1, 2, 1, 0, 1, 0, 1, 1, 0, 0, 2, 1, 2, 2, 2, 1, 2, 0, 0, 2, 1, 2, 2, 1, 0, 0, 0, 2, 2, 2, 1, 0, 2, 1, 0, 1, 2, 1, 0, 2, 1, 0, 2, 2, 0, 2, 2, 1, 1, 2, 2, 0, 2, 2, 0, 2, 0, 0, 2, 2, 1, 1, 0, 1, 2, 0, 0, 0, 2, 1, 2, 2, 0, 1, 0, 0, 1, 1, 0, 0, 1, 0, 0, 0, 2, 2, 1, 2, 0, 0, 2, 2, 0, 2, 0, 0, 0, 2, 2, 0, 0, 0, 1, 2, 2, 2, 2, 2, 0, 0, 1, 2, 0, 1, 1, 0, 1, 1, 2, 2, 2, 1, 2, 2, 1, 1, 0, 1, 0, 2, 1, 1, 2, 1, 0, 2, 1, 2, 2, 0, 0, 1, 1, 1, 0, 2, 0, 2, 1, 0, 0, 2, 0, 0, 2, 1, 2, 1, 2, 2, 2, 0, 1, 0, 2, 1, 2, 1, 2, 2, 1, 0, 1, 0, 0, 0, 1, 1, 1, 0, 2, 1, 1, 2, 1, 1, 2, 0, 1, 2, 0, 1, 1, 2, 2, 0, 0, 1, 1, 1, 2, 2, 0, 2, 1, 2, 2, 1, 2, 0, 0, 2, 2, 2, 0, 0, 1, 1, 1, 2, 2, 0, 1, 0, 0, 1, 1, 2, 1, 2, 2, 1, 0, 2, 0, 2, 2, 2, 1, 2, 2, 2, 1, 1, 0, 2, 2, 0, 0, 1, 2, 1, 2, 2, 1, 1, 1, 0, 1, 2, 1, 1, 1, 0, 1, 1, 2, 0, 0, 2, 2, 2, 1, 2, 1, 2, 1, 1, 2, 1, 0, 2, 0, 2, 0, 1, 1, 2, 1, 2, 2, 0, 0, 0, 0, 0, 2, 2, 1, 1, 2, 1, 0, 0, 0, 2, 2, 2, 0, 1, 1, 2, 2, 1, 1, 0, 2, 1, 2, 1, 2, 1, 1, 2, 2, 0, 1, 0, 2, 0, 1, 1, 2, 2, 2, 0, 2, 2, 1, 1, 1, 1, 1, 1, 1, 2, 2, 1, 2, 0, 1, 0, 0, 2, 2, 2, 0, 2, 2, 1, 1, 2, 0, 1, 0, 2, 1, 2, 2, 2, 0, 0, 2, 1, 0, 0, 2, 2, 2, 0, 1, 1, 1, 2, 0, 0, 0, 2, 1, 1, 0, 1, 2, 0, 1, 2, 1, 0, 2, 1, 0, 0, 2, 0, 2, 0, 0, 1, 0, 2, 0, 0, 2, 0, 0, 0, 2, 1, 2, 2, 1, 1, 0, 0, 1, 2, 0, 1, 2, 2, 2, 1, 0, 0, 2, 2, 0, 2, 2, 2, 1, 0, 0, 2, 2, 1, 2, 1, 2, 2, 2, 0, 2, 2, 1, 2, 2, 2, 2, 1, 2, 0, 0, 2, 1, 2, 1, 2, 0, 2, 2, 1, 2, 1, 2, 2, 2, 0, 0, 0, 1, 0, 1, 2, 2, 0, 2, 2, 2, 2, 2, 2, 0, 0, 1, 0, 1, 1, 2, 2, 1, 1, 0, 0, 0, 2, 1, 0, 2, 1, 0, 2, 2, 0, 2, 1, 1, 0, 2, 0, 0, 2, 1, 2, 1, 0, 0, 2, 1, 0, 0, 1, 2, 0, 0, 0, 1, 2, 0, 2, 2, 2, 1, 1, 1, 1, 1, 0, 2, 1, 0, 2, 2, 0, 2, 0, 2, 0, 2, 2, 1, 0, 2, 0, 1, 0, 0, 1, 0, 2, 1, 2, 2, 1, 0, 0, 2, 0, 2, 2, 1, 0, 1, 2, 1, 1, 0, 2, 2, 1, 0, 0, 1, 1, 0, 2, 1, 2, 1, 2, 1, 2, 0, 1, 1, 0, 2, 2, 2, 0, 1, 2, 0, 1, 1, 0, 1, 2, 2, 1, 1, 0, 1, 2, 2, 1, 0, 2, 1, 0, 1, 0, 2, 0, 0, 2, 0, 1, 0, 0, 1, 0, 0, 0, 2, 2, 0, 2, 2, 2, 0, 2, 1, 1, 2, 0, 2, 1, 2, 2, 1, 2, 2, 2, 1, 2, 0, 0, 2, 1, 2, 1, 2, 0, 2, 2, 1, 1, 0, 2, 0, 2, 0, 2, 2, 0, 2, 1, 0, 0, 0, 0, 0, 2, 2, 2, 2, 0, 1, 0, 2, 0, 2, 1, 0, 1, 2, 1, 1, 0, 1, 0, 2, 0, 2, 1, 1, 2, 0, 1, 0, 0, 2, 2, 1, 1, 0, 2, 1, 1, 2, 1, 2, 0, 2, 0, 0, 0, 1, 1, 1, 2, 0, 1, 1, 2, 2, 0, 2, 0, 2, 0, 1, 0, 0, 1, 1, 2, 2, 2, 2, 1, 2, 0, 1, 2, 0, 2, 0, 1, 2, 2, 1, 0, 0, 0, 0, 0, 0, 0, 2, 1, 2, 1, 0, 0, 0, 2, 1, 0, 1, 1, 1, 0, 0, 0, 1, 1, 0, 0, 0, 0, 2, 2, 2, 2, 1, 0, 2, 2, 0, 2, 1, 1, 0, 2, 1, 1, 1, 1, 2, 0, 2, 2, 1, 1, 0, 0, 1, 2, 2, 0, 0, 1, 0, 2, 2, 2, 2, 0, 1, 2, 1, 0, 2, 1, 1, 2, 0, 0, 2, 0, 2, 1, 1, 0, 0, 0, 1, 2, 1, 0, 1, 2, 0, 2, 1, 1, 0, 2, 0, 2, 2, 0, 1, 0, 1, 2, 1, 0, 0, 2, 2, 2, 0, 0, 2, 0, 2, 0, 1, 0, 2, 0, 2, 2, 2, 0, 1, 0, 1, 2, 0, 1, 0, 2, 0, 2, 1, 1, 1, 0, 0, 2, 1, 2, 2, 1, 1, 2, 2, 0, 2, 2, 1, 0, 0, 1, 0, 1, 2, 1, 0, 0, 2, 1, 1, 2, 0, 0, 1, 1, 0, 2, 1, 2, 1, 0, 1, 1, 2, 2, 2, 2, 2, 0, 0, 1, 2, 1, 1, 1, 1, 1, 1, 2, 1, 2, 0, 0, 2, 1, 2, 2, 2, 2, 2, 2, 0, 1, 0, 1, 0, 1, 1, 0, 1, 2, 0, 1, 1, 1, 1, 2, 2, 2, 2, 0, 2, 1, 1, 2, 1, 0, 2, 2, 1, 0, 2, 2, 0, 2, 0, 2, 2, 0, 2, 0, 0, 1, 2, 2, 1, 2, 1, 0, 0, 2, 2, 2, 1, 2, 2, 1, 0, 2, 0, 1, 1, 2, 0, 2, 2, 1, 2, 1, 1, 1, 2, 2, 0, 1, 2, 2, 1, 1, 0, 2, 2, 0, 2, 2, 2, 2, 1, 1, 0, 2, 0, 2, 0, 0, 2, 2, 0, 2, 1, 2, 2, 1, 2, 1, 0, 0, 2, 0, 2, 1, 1, 2, 2, 1, 1, 0, 0, 2, 2, 2, 0, 2, 0, 1, 2, 0, 1, 0, 0, 1, 0, 0, 0, 2, 0, 2, 0, 0, 0, 1, 1, 1, 0, 2, 0, 0, 0, 1, 1, 2, 2, 0, 0, 2, 0, 1, 0, 2, 2, 2, 1, 2, 2, 2, 2, 0, 1, 2, 2, 1, 2, 2, 2, 1, 2, 2, 1, 0, 2, 1, 1, 0, 2, 1, 1, 2, 0, 1, 2, 2, 0, 0, 2, 1, 0, 1, 1, 2, 0, 1, 2, 2, 2, 1, 1, 1, 2, 0, 2, 0, 2, 1, 2, 1, 0, 0, 0, 2, 0, 1, 0, 1, 1, 1, 2, 0, 2, 0, 1, 0, 2, 2, 0, 2, 0, 0, 0, 2, 0, 0, 2, 1, 1, 2, 0, 2, 2, 0, 2, 0, 1, 1, 0, 1, 0, 0, 1, 0, 0, 1, 2, 1, 0, 0, 2, 2, 0, 0, 0, 0, 1, 2, 1, 1, 0, 0, 0, 0, 1, 0, 1, 1, 1, 1, 0, 2, 1, 0, 1, 1, 0, 0, 2, 2, 2, 0, 1, 1, 1, 0, 2, 2, 1, 0, 1, 2, 2, 1, 2, 2, 1, 2, 0, 1, 0, 0, 2, 0, 0, 0, 0, 1, 2, 2, 0, 0, 2, 0, 1, 0, 0, 2, 1, 1, 2, 2, 2, 2, 1, 0, 0, 0, 2, 1, 2, 2, 1, 0, 0, 2, 0, 0, 2, 2, 0, 2, 2, 2, 1, 1, 1, 1, 0, 2, 2, 2, 0, 1, 1, 2, 0]\n"
          ],
          "name": "stdout"
        }
      ]
    },
    {
      "cell_type": "code",
      "metadata": {
        "colab": {
          "base_uri": "https://localhost:8080/"
        },
        "id": "t0W-3Ho-XFyk",
        "outputId": "0c6432d1-9966-48ab-8b1c-d09cd6a06975"
      },
      "source": [
        "print(y_pred)"
      ],
      "execution_count": null,
      "outputs": [
        {
          "output_type": "stream",
          "text": [
            "[0, 1, 1, 2, 0, 1, 1, 2, 0, 2, 2, 0, 0, 2, 2, 2, 1, 0, 0, 0, 0, 1, 2, 0, 2, 1, 0, 0, 2, 1, 1, 0, 2, 0, 2, 0, 0, 1, 0, 2, 0, 2, 0, 0, 2, 1, 0, 0, 2, 0, 1, 2, 0, 1, 2, 0, 2, 0, 0, 1, 2, 2, 0, 2, 1, 2, 1, 2, 2, 0, 0, 1, 0, 0, 1, 1, 0, 1, 0, 1, 2, 0, 0, 2, 1, 0, 0, 2, 1, 2, 1, 0, 2, 1, 2, 2, 2, 1, 2, 2, 1, 2, 1, 2, 1, 0, 2, 1, 1, 1, 0, 2, 0, 1, 2, 2, 1, 1, 2, 2, 1, 1, 0, 2, 2, 2, 1, 2, 1, 0, 2, 2, 1, 0, 2, 2, 1, 1, 2, 0, 2, 0, 0, 1, 0, 0, 1, 1, 2, 0, 1, 2, 0, 2, 0, 2, 1, 2, 1, 2, 2, 0, 1, 1, 0, 1, 2, 0, 1, 0, 0, 2, 0, 1, 0, 1, 0, 1, 0, 2, 2, 0, 2, 0, 1, 1, 2, 2, 1, 1, 1, 0, 0, 1, 2, 2, 0, 1, 0, 0, 2, 2, 1, 0, 2, 0, 2, 2, 2, 2, 0, 2, 2, 2, 2, 0, 2, 2, 1, 2, 1, 2, 2, 0, 1, 0, 2, 1, 0, 2, 2, 2, 1, 1, 1, 1, 2, 2, 0, 2, 2, 2, 0, 1, 2, 1, 2, 1, 2, 1, 1, 0, 1, 1, 1, 1, 1, 0, 2, 1, 2, 1, 2, 2, 1, 0, 1, 1, 0, 2, 2, 2, 1, 1, 1, 1, 0, 0, 2, 2, 1, 2, 1, 0, 2, 0, 1, 2, 0, 1, 2, 0, 0, 1, 2, 2, 2, 1, 2, 1, 0, 1, 2, 2, 1, 1, 0, 2, 2, 2, 1, 1, 2, 2, 2, 0, 0, 2, 1, 1, 2, 2, 0, 2, 0, 1, 1, 1, 2, 1, 1, 1, 1, 1, 2, 1, 0, 2, 1, 2, 0, 2, 2, 0, 2, 2, 0, 2, 2, 2, 1, 2, 2, 2, 2, 0, 0, 2, 2, 0, 2, 1, 1, 2, 0, 2, 1, 2, 1, 0, 2, 1, 1, 0, 0, 1, 2, 2, 2, 1, 2, 1, 1, 1, 0, 0, 1, 2, 0, 0, 0, 1, 2, 2, 1, 2, 1, 0, 1, 2, 2, 2, 1, 0, 2, 0, 2, 0, 2, 2, 1, 0, 2, 0, 1, 1, 0, 1, 0, 0, 2, 0, 1, 2, 1, 2, 1, 0, 1, 2, 0, 2, 2, 1, 1, 2, 0, 0, 1, 2, 1, 1, 2, 2, 1, 2, 0, 1, 0, 1, 0, 2, 0, 2, 1, 2, 1, 2, 0, 0, 1, 1, 1, 1, 0, 0, 0, 1, 1, 2, 1, 1, 0, 2, 0, 1, 0, 2, 2, 0, 0, 2, 1, 1, 2, 2, 2, 0, 1, 1, 2, 0, 0, 2, 1, 2, 1, 0, 0, 2, 2, 1, 2, 2, 1, 2, 0, 1, 2, 1, 2, 2, 0, 1, 2, 1, 0, 0, 1, 1, 1, 1, 1, 2, 1, 0, 1, 0, 0, 0, 0, 1, 2, 2, 2, 2, 0, 2, 2, 2, 2, 1, 2, 2, 1, 1, 1, 2, 2, 0, 2, 1, 0, 2, 1, 1, 2, 0, 0, 0, 1, 2, 0, 1, 1, 0, 2, 0, 0, 1, 0, 2, 0, 2, 0, 0, 2, 2, 1, 2, 1, 2, 2, 0, 0, 0, 1, 2, 1, 2, 2, 2, 1, 1, 2, 1, 2, 2, 0, 1, 1, 2, 0, 2, 0, 1, 1, 0, 2, 2, 2, 1, 2, 2, 2, 0, 1, 2, 2, 2, 2, 2, 2, 2, 2, 0, 1, 2, 2, 0, 0, 2, 0, 2, 2, 1, 1, 1, 2, 0, 1, 2, 0, 1, 1, 1, 0, 2, 0, 2, 0, 2, 2, 2, 0, 1, 0, 2, 2, 2, 1, 1, 0, 1, 1, 2, 0, 2, 2, 1, 2, 0, 0, 1, 1, 2, 2, 2, 1, 1, 0, 1, 1, 1, 2, 0, 1, 0, 2, 2, 1, 0, 2, 0, 1, 2, 1, 2, 2, 2, 2, 2, 2, 0, 2, 1, 0, 1, 2, 0, 2, 2, 2, 0, 2, 1, 2, 1, 2, 2, 2, 1, 2, 0, 0, 2, 1, 2, 1, 0, 1, 0, 1, 2, 0, 0, 2, 0, 1, 0, 1, 2, 2, 1, 0, 1, 0, 2, 2, 2, 1, 0, 2, 0, 0, 2, 0, 1, 1, 2, 2, 2, 0, 2, 1, 1, 1, 0, 1, 0, 2, 1, 2, 2, 2, 0, 2, 1, 0, 2, 1, 2, 2, 0, 2, 1, 2, 2, 2, 1, 2, 0, 0, 1, 2, 1, 0, 2, 2, 0, 2, 2, 1, 0, 2, 0, 1, 0, 2, 1, 2, 1, 1, 0, 0, 2, 2, 0, 2, 1, 2, 2, 0, 2, 0, 2, 0, 2, 2, 1, 1, 1, 0, 1, 2, 0, 1, 0, 1, 2, 1, 1, 2, 2, 0, 1, 1, 0, 2, 1, 0, 2, 1, 1, 0, 2, 2, 2, 1, 2, 1, 1, 1, 2, 2, 0, 2, 1, 1, 2, 0, 1, 0, 0, 0, 2, 2, 0, 1, 2, 1, 2, 1, 1, 0, 1, 2, 2, 2, 0, 1, 2, 2, 1, 2, 0, 1, 2, 1, 1, 2, 0, 0, 1, 2, 2, 2, 1, 0, 0, 1, 2, 0, 2, 2, 2, 2, 2, 1, 1, 2, 1, 1, 0, 0, 1, 0, 2, 0, 0, 1, 0, 0, 2, 2, 0, 1, 1, 2, 1, 0, 0, 2, 0, 0, 2, 1, 2, 2, 2, 2, 2, 2, 1, 2, 1, 2, 1, 1, 1, 1, 1, 0, 1, 0, 0, 2, 2, 1, 1, 2, 0, 0, 0, 2, 0, 2, 0, 1, 2, 0, 1, 2, 0, 1, 2, 2, 2, 1, 1, 1, 2, 2, 1, 1, 2, 0, 2, 2, 2, 1, 0, 0, 1, 0, 1, 1, 2, 0, 1, 1, 0, 2, 1, 2, 0, 1, 1, 2, 2, 1, 1, 2, 2, 2, 2, 2, 0, 2, 1, 1, 1, 2, 0, 2, 0, 2, 1, 2, 2, 2, 2, 0, 2, 1, 2, 1, 0, 0, 2, 2, 0, 2, 2, 2, 1, 2, 2, 2, 1, 1, 1, 1, 2, 2, 0, 2, 1, 0, 2, 2, 0, 2, 2, 2, 1, 1, 1, 0, 1, 2, 2, 2, 2, 0, 0, 1, 0, 1, 2, 1, 2, 2, 1, 0, 1, 2, 2, 2, 2, 2, 1, 0, 1, 0, 0, 2, 0, 2, 2, 1, 0, 1, 1, 1, 2, 0, 0, 1, 1, 1, 1, 2, 2, 2, 0, 0, 0, 2, 1, 2, 0, 0, 1, 1, 1, 1, 2, 0, 2, 1, 2, 0, 0, 1, 1, 2, 2, 0, 0, 0, 1, 0, 1, 2, 1, 0, 1, 2, 2, 2, 1, 2, 1, 1, 1, 1, 1, 2, 0, 1, 0, 2, 1, 2, 0, 2, 0, 0, 0, 1, 2, 1, 0, 1, 1, 0, 0, 2, 2, 0, 0, 2, 0, 1, 1, 2, 1, 0, 0, 1, 2, 2, 0, 2, 2, 0, 2, 2, 2, 1, 1, 0, 0, 2, 1, 2, 1, 2, 2, 2, 2, 1, 2, 2, 1, 1, 0, 0, 1, 0, 1, 2, 1, 0, 0, 1, 2, 2, 0, 0, 0, 2, 1, 0, 2, 2, 2, 0, 0, 0, 0, 0, 2, 2, 0, 0, 2, 1, 0, 0, 0, 2, 0, 1, 0, 0, 2, 2, 2, 0, 0, 2, 2, 0, 1, 1, 0, 2, 1, 0, 0, 0, 0, 0, 0, 2, 1, 2, 0, 2, 1, 1, 2, 2, 2, 2, 2, 1, 2, 2, 1, 0, 2, 1, 0, 2, 0, 0, 0, 0, 0, 0, 2, 1, 1, 1, 0, 2, 2, 2, 2, 0, 0, 2, 1, 1, 1, 2, 2, 0, 2, 1, 1, 1, 0, 2, 2, 2, 2, 0, 2, 1, 1, 2, 0, 0, 0, 2, 1, 2, 0, 1, 2, 2, 1, 2, 2, 2, 2, 1, 2, 0, 2, 0, 1, 2, 2, 1, 2, 2, 1, 1, 2, 1, 1, 0, 0, 0, 0, 2, 2, 0, 0, 0, 2, 1, 1, 2, 0, 0, 2, 0, 2, 2, 0, 1, 2, 0, 2, 1, 2, 2, 2, 2, 0, 2, 0, 0, 2, 2, 1, 1, 2, 0, 2, 1, 2, 1, 0, 1, 2, 1, 0, 2, 1, 1, 1, 0, 1, 2, 0, 0, 2, 2, 1, 2, 2, 2, 2, 0, 0, 1, 0, 2, 0, 0, 0, 0, 2, 2, 0, 2, 0, 0, 0, 1, 2, 0, 2, 1, 1, 2, 2, 2, 2, 2, 0, 2, 1, 1, 1, 0, 2, 0, 1, 0, 1, 0, 2, 1, 0, 0, 2, 2, 0, 2, 2, 2, 0, 2, 2, 1, 2, 0, 2, 2, 1, 0, 0, 1, 0, 0, 2, 1, 2, 2, 2, 2, 0, 1, 2, 2, 1, 1, 2, 1, 1, 2, 2, 2, 2, 0, 2, 2, 2, 1, 2, 0, 2, 2, 0, 2, 0, 0, 0, 1, 2, 2, 1, 2, 2, 0, 0, 1, 2, 1, 2, 2, 2, 2, 2, 1, 1, 2, 1, 1, 0, 0, 2, 1, 0, 2, 1, 1, 2, 2, 1, 0, 0, 0, 2, 2, 0, 1, 0, 1, 2, 2, 0, 0, 2, 0, 0, 1, 1, 2, 1, 0, 2, 2, 2, 0, 0, 2, 1, 2, 0, 0, 1, 2, 1, 0, 2, 2, 0, 2, 0, 2, 1, 1, 0, 2, 0, 0, 0, 2, 1, 2, 2, 2, 1, 2, 0, 2, 2, 1, 1, 0, 0, 0, 1, 0, 1, 2, 2, 1, 2, 1, 0, 1, 1, 1, 1, 0, 2, 0, 2, 0, 0, 1, 0, 1, 0, 0, 0, 1, 2, 0, 0, 1, 0, 2, 1, 1, 0, 0, 1, 2, 2, 2, 2, 1, 2, 1, 2, 2, 0, 2, 0, 0, 1, 1, 1, 0, 0, 1, 0, 1, 0, 2, 0, 1, 2, 2, 1, 2, 2, 0, 2, 2, 1, 0, 2, 2, 1, 0, 0, 0, 1, 0, 0, 2, 2, 0, 2, 1, 1, 2, 2, 1, 2, 1, 2, 2, 1, 0, 1, 0, 0, 2, 0, 0, 0, 0, 0, 1, 1, 2, 0, 1, 2, 0, 2, 0, 2, 0, 1, 2, 0, 2, 2, 0, 2, 2, 2, 2, 0, 1, 0, 0, 2, 1, 0, 2, 2, 0, 2, 2, 0, 1, 2, 2, 0, 2, 0, 0, 2, 0, 0, 0, 1, 0, 2, 0, 0, 1, 2, 1, 2, 2, 0, 2, 1, 1, 2, 1, 2, 1, 1, 2, 1, 0, 1, 0, 1, 1, 0, 0, 2, 1, 2, 2, 2, 1, 2, 0, 0, 1, 1, 2, 2, 1, 0, 0, 0, 1, 2, 2, 1, 0, 2, 1, 0, 1, 2, 1, 0, 2, 1, 0, 1, 2, 0, 2, 2, 1, 1, 2, 2, 1, 2, 2, 0, 2, 0, 0, 2, 0, 2, 2, 0, 1, 0, 0, 0, 0, 2, 1, 2, 2, 0, 0, 0, 0, 0, 1, 1, 0, 2, 0, 0, 0, 2, 1, 1, 2, 0, 0, 2, 2, 1, 2, 0, 0, 0, 2, 2, 0, 0, 0, 1, 2, 2, 2, 1, 2, 0, 0, 2, 2, 0, 1, 0, 2, 1, 2, 2, 2, 2, 1, 2, 2, 0, 1, 1, 1, 0, 2, 1, 1, 2, 1, 0, 2, 1, 2, 2, 1, 0, 1, 2, 1, 0, 2, 0, 2, 1, 0, 0, 2, 0, 1, 2, 1, 2, 1, 1, 2, 2, 0, 0, 2, 2, 1, 2, 1, 1, 2, 1, 0, 1, 0, 0, 2, 0, 1, 2, 1, 2, 1, 2, 1, 1, 1, 2, 0, 2, 2, 0, 1, 1, 2, 2, 0, 0, 1, 2, 1, 2, 2, 0, 2, 1, 2, 2, 2, 1, 0, 0, 2, 1, 2, 0, 1, 0, 0, 2, 2, 2, 0, 1, 0, 0, 1, 1, 2, 1, 2, 2, 2, 0, 2, 0, 2, 2, 2, 1, 2, 2, 2, 1, 1, 2, 2, 1, 0, 0, 1, 2, 1, 2, 1, 1, 2, 2, 1, 1, 2, 0, 1, 1, 0, 1, 1, 1, 0, 0, 2, 2, 2, 1, 2, 1, 2, 1, 2, 0, 1, 1, 2, 1, 2, 0, 2, 2, 2, 1, 1, 2, 1, 0, 1, 0, 0, 2, 2, 1, 1, 0, 1, 0, 0, 0, 2, 2, 2, 0, 1, 0, 2, 2, 1, 2, 2, 2, 1, 2, 1, 1, 1, 0, 2, 2, 0, 1, 0, 2, 0, 1, 1, 2, 2, 2, 0, 1, 2, 1, 0, 1, 0, 1, 1, 2, 2, 1, 1, 2, 0, 2, 0, 0, 2, 2, 2, 1, 2, 2, 1, 0, 2, 0, 2, 1, 2, 2, 2, 2, 2, 0, 0, 2, 1, 0, 2, 2, 1, 2, 2, 1, 0, 0, 2, 0, 0, 0, 2, 1, 1, 0, 2, 2, 0, 1, 2, 1, 0, 2, 1, 0, 1, 2, 2, 2, 0, 0, 2, 0, 2, 0, 0, 2, 0, 0, 0, 1, 1, 2, 2, 1, 1, 0, 0, 1, 2, 0, 1, 2, 2, 2, 1, 0, 2, 2, 2, 0, 2, 2, 2, 1, 0, 1, 2, 2, 2, 2, 2, 2, 2, 2, 0, 2, 2, 1, 2, 2, 2, 2, 1, 2, 0, 0, 2, 1, 2, 2, 2, 0, 2, 2, 1, 2, 2, 2, 2, 2, 0, 0, 0, 1, 0, 0, 2, 2, 0, 2, 2, 2, 2, 2, 2, 0, 0, 1, 0, 1, 1, 2, 2, 1, 1, 0, 0, 2, 2, 1, 0, 2, 0, 0, 2, 2, 0, 2, 2, 2, 0, 0, 0, 2, 2, 1, 2, 1, 0, 0, 2, 1, 1, 1, 2, 2, 0, 0, 0, 1, 2, 0, 1, 2, 2, 1, 1, 2, 2, 0, 2, 2, 1, 0, 2, 2, 0, 2, 0, 2, 0, 2, 2, 1, 0, 2, 0, 2, 0, 0, 1, 0, 2, 1, 2, 2, 1, 0, 0, 1, 0, 2, 2, 2, 0, 1, 2, 1, 2, 0, 2, 2, 1, 0, 0, 0, 2, 0, 2, 1, 2, 1, 2, 1, 2, 0, 1, 1, 0, 2, 2, 2, 0, 1, 2, 0, 1, 1, 0, 1, 2, 2, 2, 1, 2, 0, 2, 2, 1, 0, 2, 1, 1, 1, 0, 2, 0, 0, 2, 0, 1, 0, 0, 2, 0, 0, 1, 2, 2, 0, 2, 2, 1, 0, 2, 0, 1, 1, 0, 2, 1, 2, 2, 2, 2, 1, 2, 1, 2, 2, 0, 2, 1, 1, 1, 2, 0, 2, 2, 0, 1, 0, 2, 0, 2, 0, 1, 2, 1, 2, 1, 0, 0, 0, 1, 0, 2, 0, 2, 2, 0, 1, 0, 1, 0, 2, 2, 0, 1, 2, 1, 1, 2, 1, 0, 2, 0, 2, 1, 1, 2, 2, 1, 0, 0, 2, 2, 2, 1, 0, 2, 1, 1, 2, 0, 2, 1, 2, 0, 0, 1, 1, 1, 2, 2, 0, 1, 2, 2, 2, 0, 2, 1, 2, 0, 1, 0, 0, 1, 1, 2, 2, 2, 2, 1, 2, 0, 1, 2, 1, 2, 1, 1, 2, 2, 0, 0, 0, 0, 2, 0, 0, 0, 2, 1, 2, 2, 0, 0, 2, 2, 1, 0, 2, 1, 1, 0, 0, 0, 1, 1, 2, 0, 1, 0, 2, 2, 2, 2, 1, 1, 2, 0, 0, 2, 2, 0, 0, 2, 1, 2, 1, 1, 2, 0, 2, 2, 1, 1, 0, 0, 1, 2, 2, 0, 0, 1, 0, 2, 2, 2, 2, 0, 1, 2, 1, 2, 2, 2, 1, 2, 0, 0, 2, 0, 2, 1, 2, 0, 0, 0, 1, 2, 1, 0, 1, 2, 0, 2, 1, 1, 2, 2, 0, 2, 2, 0, 1, 1, 1, 0, 2, 0, 0, 2, 2, 2, 2, 0, 1, 0, 2, 0, 1, 0, 2, 0, 2, 2, 1, 0, 1, 1, 1, 2, 0, 1, 1, 2, 0, 1, 2, 0, 2, 0, 0, 2, 1, 2, 2, 1, 1, 2, 2, 0, 2, 2, 1, 0, 0, 1, 0, 1, 1, 0, 2, 0, 2, 1, 1, 2, 0, 0, 0, 1, 0, 2, 2, 2, 1, 0, 0, 1, 2, 2, 1, 2, 2, 0, 0, 1, 2, 1, 1, 0, 2, 2, 1, 2, 2, 2, 0, 0, 0, 2, 1, 1, 1, 2, 2, 1, 0, 1, 0, 0, 1, 2, 1, 0, 1, 2, 0, 1, 1, 1, 1, 2, 2, 2, 2, 1, 2, 1, 2, 2, 2, 0, 2, 0, 1, 0, 2, 2, 0, 1, 0, 2, 2, 0, 2, 0, 0, 0, 2, 0, 1, 2, 1, 0, 0, 2, 2, 2, 1, 2, 1, 1, 0, 0, 0, 0, 1, 2, 0, 2, 2, 1, 2, 1, 1, 1, 2, 2, 0, 1, 1, 0, 2, 1, 0, 2, 2, 1, 2, 0, 2, 2, 1, 2, 1, 2, 0, 2, 0, 0, 2, 2, 0, 2, 1, 2, 2, 2, 2, 0, 1, 0, 2, 1, 2, 2, 1, 2, 0, 1, 1, 0, 0, 2, 2, 2, 0, 2, 0, 1, 2, 1, 1, 0, 2, 0, 0, 0, 1, 2, 0, 2, 0, 0, 0, 1, 1, 1, 0, 2, 1, 0, 0, 1, 1, 2, 2, 0, 1, 2, 0, 0, 0, 2, 2, 2, 1, 1, 2, 2, 2, 0, 1, 2, 2, 1, 2, 2, 2, 1, 2, 2, 2, 0, 2, 1, 2, 1, 2, 2, 1, 2, 0, 0, 2, 2, 0, 0, 2, 0, 0, 1, 1, 2, 1, 2, 2, 1, 2, 1, 1, 1, 0, 0, 2, 0, 2, 1, 2, 1, 0, 1, 0, 2, 0, 1, 2, 1, 1, 1, 1, 0, 2, 0, 2, 0, 1, 2, 0, 0, 2, 0, 0, 2, 1, 0, 2, 1, 0, 2, 0, 2, 2, 1, 1, 1, 1, 1, 1, 0, 1, 1, 0, 0, 0, 1, 2, 1, 0, 0, 0, 2, 0, 1, 0, 2, 0, 1, 1, 2, 0, 0, 0, 0, 0, 1, 1, 1, 2, 1, 0, 2, 1, 0, 2, 1, 0, 0, 2, 2, 2, 1, 1, 1, 2, 0, 0, 2, 1, 0, 1, 0, 2, 1, 2, 2, 1, 1, 0, 0, 0, 0, 2, 0, 0, 0, 0, 1, 2, 2, 0, 0, 2, 0, 1, 2, 0, 2, 2, 1, 2, 2, 2, 1, 1, 0, 0, 0, 2, 1, 2, 2, 1, 0, 2, 2, 0, 0, 2, 2, 0, 2, 2, 2, 0, 2, 0, 1, 0, 2, 2, 2, 0, 1, 1, 2, 0]\n"
          ],
          "name": "stdout"
        }
      ]
    },
    {
      "cell_type": "code",
      "metadata": {
        "colab": {
          "base_uri": "https://localhost:8080/"
        },
        "id": "UJxT-pOgRddo",
        "outputId": "17967b2d-248c-4208-cc71-57202efd1e0b"
      },
      "source": [
        "cm=confusion_matrix(y_test, y_pred)\r\n",
        "cm"
      ],
      "execution_count": null,
      "outputs": [
        {
          "output_type": "execute_result",
          "data": {
            "text/plain": [
              "array([[ 796,  149,   83],\n",
              "       [ 115,  684,  162],\n",
              "       [  37,   97, 1025]])"
            ]
          },
          "metadata": {
            "tags": []
          },
          "execution_count": 50
        }
      ]
    },
    {
      "cell_type": "code",
      "metadata": {
        "id": "XsjEAej-Rkm6"
      },
      "source": [
        "#plotting confusion matrix\r\n",
        "def plot_confusion_matrix(cm, classes,\r\n",
        "                          normalize=False,\r\n",
        "                          title='Multi_Class_TF.Hub BERT Confusion matrix',\r\n",
        "                          cmap=plt.cm.YlOrRd):\r\n",
        "    \"\"\"\r\n",
        "    See full source and example: \r\n",
        "    http://scikit-learn.org/stable/auto_examples/model_selection/plot_confusion_matrix.html\r\n",
        "    \r\n",
        "    This function prints and plots the confusion matrix.\r\n",
        "    Normalization can be applied by setting `normalize=True`.\r\n",
        "    \"\"\"\r\n",
        "    plt.imshow(cm, interpolation='nearest', cmap=cmap)\r\n",
        "    plt.title(title,fontsize=12)\r\n",
        "    plt.colorbar()\r\n",
        "    tick_marks = np.arange(len(classes))\r\n",
        "    plt.xticks(tick_marks, classes, rotation=0)\r\n",
        "    plt.yticks(tick_marks, classes)\r\n",
        "\r\n",
        "    if normalize:\r\n",
        "        cm = cm.astype('float') / cm.sum(axis=1)[:, np.newaxis]\r\n",
        "        print(\"Normalized confusion matrix\")\r\n",
        "    else:\r\n",
        "        print('Confusion matrix, without normalization')\r\n",
        "\r\n",
        "    thresh = cm.max() / 2.\r\n",
        "    for i, j in itertools.product(range(cm.shape[0]), range(cm.shape[1])):\r\n",
        "        plt.text(j, i, cm[i, j],\r\n",
        "                 horizontalalignment=\"right\",\r\n",
        "                 color=\"White\" if cm[i, j] > thresh else \"black\")\r\n",
        "\r\n",
        "    plt.tight_layout()\r\n",
        "    plt.ylabel('True label', fontsize=15)\r\n",
        "    plt.xlabel('Predicted label',fontsize=15)\r\n",
        "    plt.show()"
      ],
      "execution_count": null,
      "outputs": []
    },
    {
      "cell_type": "code",
      "metadata": {
        "colab": {
          "base_uri": "https://localhost:8080/",
          "height": 333
        },
        "id": "4I-JPvkdR9eS",
        "outputId": "eb9bce8e-e8c9-4f03-faf8-09adee40b10b"
      },
      "source": [
        "import itertools\r\n",
        "plot_confusion_matrix(cm,[\"Negative\",\"Neutral\",\"Postive\"])\r\n",
        "plt.show()"
      ],
      "execution_count": null,
      "outputs": [
        {
          "output_type": "stream",
          "text": [
            "Confusion matrix, without normalization\n"
          ],
          "name": "stdout"
        },
        {
          "output_type": "display_data",
          "data": {
            "image/png": "[encoded data removed]",
            "text/plain": [
              "<Figure size 432x288 with 2 Axes>"
            ]
          },
          "metadata": {
            "tags": [],
            "needs_background": "light"
          }
        }
      ]
    },
    {
      "cell_type": "code",
      "metadata": {
        "colab": {
          "base_uri": "https://localhost:8080/"
        },
        "id": "JBgj4kk9X5Vn",
        "outputId": "b4a42e1e-d413-48c2-9d0d-c9e3bf3d5417"
      },
      "source": [
        "\r\n",
        "from sklearn.metrics import accuracy_score\r\n",
        "print(\"\\t\\tMulti Class TF_hub_BERT\\n\\n\")\r\n",
        "print(\"Accuracy of BERT is:\",accuracy_score(y_test,y_pred))\r\n",
        "print(classification_report(y_test,y_pred,target_names=['Negative', 'Neutral','Positive']))\r\n"
      ],
      "execution_count": null,
      "outputs": [
        {
          "output_type": "stream",
          "text": [
            "\t\tMulti Class TF_hub_BERT\n",
            "\n",
            "\n",
            "Accuracy of BERT is: 0.7957433290978398\n",
            "              precision    recall  f1-score   support\n",
            "\n",
            "    Negative       0.84      0.77      0.81      1028\n",
            "     Neutral       0.74      0.71      0.72       961\n",
            "    Positive       0.81      0.88      0.84      1159\n",
            "\n",
            "    accuracy                           0.80      3148\n",
            "   macro avg       0.79      0.79      0.79      3148\n",
            "weighted avg       0.80      0.80      0.79      3148\n",
            "\n"
          ],
          "name": "stdout"
        }
      ]
    },
    {
      "cell_type": "code",
      "metadata": {
        "colab": {
          "base_uri": "https://localhost:8080/"
        },
        "id": "iVCT7QCIbYXo",
        "outputId": "32a8f309-2edf-4ded-e2ce-4456fec86b81"
      },
      "source": [
        "test[\"predicted\"]=np.array(y_pred)"
      ],
      "execution_count": null,
      "outputs": [
        {
          "output_type": "stream",
          "text": [
            "/usr/local/lib/python3.7/dist-packages/ipykernel_launcher.py:1: SettingWithCopyWarning: \n",
            "A value is trying to be set on a copy of a slice from a DataFrame.\n",
            "Try using .loc[row_indexer,col_indexer] = value instead\n",
            "\n",
            "See the caveats in the documentation: https://pandas.pydata.org/pandas-docs/stable/user_guide/indexing.html#returning-a-view-versus-a-copy\n",
            "  \"\"\"Entry point for launching an IPython kernel.\n"
          ],
          "name": "stderr"
        }
      ]
    },
    {
      "cell_type": "code",
      "metadata": {
        "colab": {
          "base_uri": "https://localhost:8080/",
          "height": 404
        },
        "id": "RuCS8DEyhEok",
        "outputId": "21d0e3cc-f04d-4dd0-9659-a721840394e4"
      },
      "source": [
        "test"
      ],
      "execution_count": null,
      "outputs": [
        {
          "output_type": "execute_result",
          "data": {
            "text/html": [
              "<div>\n",
              "<style scoped>\n",
              "    .dataframe tbody tr th:only-of-type {\n",
              "        vertical-align: middle;\n",
              "    }\n",
              "\n",
              "    .dataframe tbody tr th {\n",
              "        vertical-align: top;\n",
              "    }\n",
              "\n",
              "    .dataframe thead th {\n",
              "        text-align: right;\n",
              "    }\n",
              "</style>\n",
              "<table border=\"1\" class=\"dataframe\">\n",
              "  <thead>\n",
              "    <tr style=\"text-align: right;\">\n",
              "      <th></th>\n",
              "      <th>content</th>\n",
              "      <th>Polarity</th>\n",
              "      <th>clean_text</th>\n",
              "      <th>predicted</th>\n",
              "    </tr>\n",
              "  </thead>\n",
              "  <tbody>\n",
              "    <tr>\n",
              "      <th>10871</th>\n",
              "      <td>Impossible to use.</td>\n",
              "      <td>0</td>\n",
              "      <td>impossible use</td>\n",
              "      <td>0</td>\n",
              "    </tr>\n",
              "    <tr>\n",
              "      <th>1210</th>\n",
              "      <td>Wow... A To Do list app without the option to ...</td>\n",
              "      <td>0</td>\n",
              "      <td>wow list app without option make task recurrin...</td>\n",
              "      <td>1</td>\n",
              "    </tr>\n",
              "    <tr>\n",
              "      <th>14289</th>\n",
              "      <td>Very good... Just one point. When listing comi...</td>\n",
              "      <td>2</td>\n",
              "      <td>good one point listing coming task would good ...</td>\n",
              "      <td>1</td>\n",
              "    </tr>\n",
              "    <tr>\n",
              "      <th>10434</th>\n",
              "      <td>Made outlook play nicely by just importing my ...</td>\n",
              "      <td>2</td>\n",
              "      <td>made outlook play nicely importing outlook cal...</td>\n",
              "      <td>2</td>\n",
              "    </tr>\n",
              "    <tr>\n",
              "      <th>12458</th>\n",
              "      <td>complicated</td>\n",
              "      <td>0</td>\n",
              "      <td>complicated</td>\n",
              "      <td>0</td>\n",
              "    </tr>\n",
              "    <tr>\n",
              "      <th>...</th>\n",
              "      <td>...</td>\n",
              "      <td>...</td>\n",
              "      <td>...</td>\n",
              "      <td>...</td>\n",
              "    </tr>\n",
              "    <tr>\n",
              "      <th>10887</th>\n",
              "      <td>At the features are premium 😐</td>\n",
              "      <td>0</td>\n",
              "      <td>feature premium 😐</td>\n",
              "      <td>0</td>\n",
              "    </tr>\n",
              "    <tr>\n",
              "      <th>3029</th>\n",
              "      <td>Back button doesnt work</td>\n",
              "      <td>1</td>\n",
              "      <td>back button doesnt work</td>\n",
              "      <td>1</td>\n",
              "    </tr>\n",
              "    <tr>\n",
              "      <th>6661</th>\n",
              "      <td>So far it's not flexible enough for me. Also, ...</td>\n",
              "      <td>1</td>\n",
              "      <td>far flexible enough also need option remove ge...</td>\n",
              "      <td>1</td>\n",
              "    </tr>\n",
              "    <tr>\n",
              "      <th>2075</th>\n",
              "      <td>Very nice app with a lot of integrations which...</td>\n",
              "      <td>2</td>\n",
              "      <td>nice app lot integration make comfortable use ...</td>\n",
              "      <td>2</td>\n",
              "    </tr>\n",
              "    <tr>\n",
              "      <th>8736</th>\n",
              "      <td>I liked wunderlist much more, I can't arrange ...</td>\n",
              "      <td>0</td>\n",
              "      <td>liked wunderlist much cant arrange task list f...</td>\n",
              "      <td>0</td>\n",
              "    </tr>\n",
              "  </tbody>\n",
              "</table>\n",
              "<p>3148 rows × 4 columns</p>\n",
              "</div>"
            ],
            "text/plain": [
              "                                                 content  ...  predicted\n",
              "10871                                 Impossible to use.  ...          0\n",
              "1210   Wow... A To Do list app without the option to ...  ...          1\n",
              "14289  Very good... Just one point. When listing comi...  ...          1\n",
              "10434  Made outlook play nicely by just importing my ...  ...          2\n",
              "12458                                        complicated  ...          0\n",
              "...                                                  ...  ...        ...\n",
              "10887                      At the features are premium 😐  ...          0\n",
              "3029                             Back button doesnt work  ...          1\n",
              "6661   So far it's not flexible enough for me. Also, ...  ...          1\n",
              "2075   Very nice app with a lot of integrations which...  ...          2\n",
              "8736   I liked wunderlist much more, I can't arrange ...  ...          0\n",
              "\n",
              "[3148 rows x 4 columns]"
            ]
          },
          "metadata": {
            "tags": []
          },
          "execution_count": 105
        }
      ]
    },
    {
      "cell_type": "code",
      "metadata": {
        "colab": {
          "base_uri": "https://localhost:8080/"
        },
        "id": "XIEXfCtRhCgu",
        "outputId": "3fd5cb93-0ded-46e6-9cf0-70822775b242"
      },
      "source": [
        "test[\"Polarity\"]= test[\"Polarity\"].apply(lambda x: \"Negative\" if x== 0 else ('Neutral' if x== 1 else \"Positive\" ) )\r\n",
        "test[\"predicted\"]= test[\"predicted\"].apply(lambda x: \"Negative\" if x== 0 else ('Neutral' if x== 1 else \"Positive\" ) )"
      ],
      "execution_count": null,
      "outputs": [
        {
          "output_type": "stream",
          "text": [
            "/usr/local/lib/python3.7/dist-packages/ipykernel_launcher.py:1: SettingWithCopyWarning: \n",
            "A value is trying to be set on a copy of a slice from a DataFrame.\n",
            "Try using .loc[row_indexer,col_indexer] = value instead\n",
            "\n",
            "See the caveats in the documentation: https://pandas.pydata.org/pandas-docs/stable/user_guide/indexing.html#returning-a-view-versus-a-copy\n",
            "  \"\"\"Entry point for launching an IPython kernel.\n",
            "/usr/local/lib/python3.7/dist-packages/ipykernel_launcher.py:2: SettingWithCopyWarning: \n",
            "A value is trying to be set on a copy of a slice from a DataFrame.\n",
            "Try using .loc[row_indexer,col_indexer] = value instead\n",
            "\n",
            "See the caveats in the documentation: https://pandas.pydata.org/pandas-docs/stable/user_guide/indexing.html#returning-a-view-versus-a-copy\n",
            "  \n"
          ],
          "name": "stderr"
        }
      ]
    },
    {
      "cell_type": "code",
      "metadata": {
        "id": "e8xa8iz9Y-qD"
      },
      "source": [
        "# cond=[test.predicted==0,test.predicted==1,test.predicted==2]\r\n",
        "# cond1=[test.==0,test.predicted==1,test.predicted==2]\r\n",
        "# choice=[\"Negative\",\"Neutral\",\"Positive\"]\r\n",
        "# test.Polarity=np.select(cond,choice)\r\n",
        "# test.predicted= np.select(cond,choice)\r\n",
        "# test.Polarity.head()"
      ],
      "execution_count": null,
      "outputs": []
    },
    {
      "cell_type": "code",
      "metadata": {
        "colab": {
          "base_uri": "https://localhost:8080/",
          "height": 491
        },
        "id": "3feQ4zEzdMuF",
        "outputId": "3e1a0be6-b2c8-4b58-8983-e76ea7d9cbf6"
      },
      "source": [
        "test.head(15)"
      ],
      "execution_count": null,
      "outputs": [
        {
          "output_type": "execute_result",
          "data": {
            "text/html": [
              "<div>\n",
              "<style scoped>\n",
              "    .dataframe tbody tr th:only-of-type {\n",
              "        vertical-align: middle;\n",
              "    }\n",
              "\n",
              "    .dataframe tbody tr th {\n",
              "        vertical-align: top;\n",
              "    }\n",
              "\n",
              "    .dataframe thead th {\n",
              "        text-align: right;\n",
              "    }\n",
              "</style>\n",
              "<table border=\"1\" class=\"dataframe\">\n",
              "  <thead>\n",
              "    <tr style=\"text-align: right;\">\n",
              "      <th></th>\n",
              "      <th>content</th>\n",
              "      <th>Polarity</th>\n",
              "      <th>clean_text</th>\n",
              "      <th>predicted</th>\n",
              "    </tr>\n",
              "  </thead>\n",
              "  <tbody>\n",
              "    <tr>\n",
              "      <th>10871</th>\n",
              "      <td>Impossible to use.</td>\n",
              "      <td>Negative</td>\n",
              "      <td>impossible use</td>\n",
              "      <td>Negative</td>\n",
              "    </tr>\n",
              "    <tr>\n",
              "      <th>1210</th>\n",
              "      <td>Wow... A To Do list app without the option to ...</td>\n",
              "      <td>Negative</td>\n",
              "      <td>wow list app without option make task recurrin...</td>\n",
              "      <td>Neutral</td>\n",
              "    </tr>\n",
              "    <tr>\n",
              "      <th>14289</th>\n",
              "      <td>Very good... Just one point. When listing comi...</td>\n",
              "      <td>Positive</td>\n",
              "      <td>good one point listing coming task would good ...</td>\n",
              "      <td>Neutral</td>\n",
              "    </tr>\n",
              "    <tr>\n",
              "      <th>10434</th>\n",
              "      <td>Made outlook play nicely by just importing my ...</td>\n",
              "      <td>Positive</td>\n",
              "      <td>made outlook play nicely importing outlook cal...</td>\n",
              "      <td>Positive</td>\n",
              "    </tr>\n",
              "    <tr>\n",
              "      <th>12458</th>\n",
              "      <td>complicated</td>\n",
              "      <td>Negative</td>\n",
              "      <td>complicated</td>\n",
              "      <td>Negative</td>\n",
              "    </tr>\n",
              "    <tr>\n",
              "      <th>4367</th>\n",
              "      <td>This app is great and it already helping me st...</td>\n",
              "      <td>Neutral</td>\n",
              "      <td>app great already helping stay track thing sur...</td>\n",
              "      <td>Neutral</td>\n",
              "    </tr>\n",
              "    <tr>\n",
              "      <th>7581</th>\n",
              "      <td>I would love to do a one/life time purchase fo...</td>\n",
              "      <td>Positive</td>\n",
              "      <td>would love onelife time purchase app bad hate ...</td>\n",
              "      <td>Neutral</td>\n",
              "    </tr>\n",
              "    <tr>\n",
              "      <th>13233</th>\n",
              "      <td>It is really good and dies not have any ads al...</td>\n",
              "      <td>Positive</td>\n",
              "      <td>really good dy ad also really good tidying</td>\n",
              "      <td>Positive</td>\n",
              "    </tr>\n",
              "    <tr>\n",
              "      <th>5344</th>\n",
              "      <td>the app again crashed after updating... its no...</td>\n",
              "      <td>Neutral</td>\n",
              "      <td>app crashed updating even responding</td>\n",
              "      <td>Negative</td>\n",
              "    </tr>\n",
              "    <tr>\n",
              "      <th>8323</th>\n",
              "      <td>Awesome. Simple and easy to use.</td>\n",
              "      <td>Positive</td>\n",
              "      <td>awesome simple easy use</td>\n",
              "      <td>Positive</td>\n",
              "    </tr>\n",
              "    <tr>\n",
              "      <th>9566</th>\n",
              "      <td>Very good app really 🖤</td>\n",
              "      <td>Positive</td>\n",
              "      <td>good app really 🖤</td>\n",
              "      <td>Positive</td>\n",
              "    </tr>\n",
              "    <tr>\n",
              "      <th>3658</th>\n",
              "      <td>I have been wanting to try out this app for a ...</td>\n",
              "      <td>Negative</td>\n",
              "      <td>wanting try app registered everything going gr...</td>\n",
              "      <td>Negative</td>\n",
              "    </tr>\n",
              "    <tr>\n",
              "      <th>1533</th>\n",
              "      <td>The widget has been broken for the last couple...</td>\n",
              "      <td>Negative</td>\n",
              "      <td>widget broken last couple week since update pl...</td>\n",
              "      <td>Negative</td>\n",
              "    </tr>\n",
              "    <tr>\n",
              "      <th>9552</th>\n",
              "      <td>I like so much BUT i have a advice. Like, if y...</td>\n",
              "      <td>Positive</td>\n",
              "      <td>like much advice like make completed task go a...</td>\n",
              "      <td>Positive</td>\n",
              "    </tr>\n",
              "    <tr>\n",
              "      <th>3589</th>\n",
              "      <td>Great apk</td>\n",
              "      <td>Positive</td>\n",
              "      <td>great apk</td>\n",
              "      <td>Positive</td>\n",
              "    </tr>\n",
              "  </tbody>\n",
              "</table>\n",
              "</div>"
            ],
            "text/plain": [
              "                                                 content  ... predicted\n",
              "10871                                 Impossible to use.  ...  Negative\n",
              "1210   Wow... A To Do list app without the option to ...  ...   Neutral\n",
              "14289  Very good... Just one point. When listing comi...  ...   Neutral\n",
              "10434  Made outlook play nicely by just importing my ...  ...  Positive\n",
              "12458                                        complicated  ...  Negative\n",
              "4367   This app is great and it already helping me st...  ...   Neutral\n",
              "7581   I would love to do a one/life time purchase fo...  ...   Neutral\n",
              "13233  It is really good and dies not have any ads al...  ...  Positive\n",
              "5344   the app again crashed after updating... its no...  ...  Negative\n",
              "8323                    Awesome. Simple and easy to use.  ...  Positive\n",
              "9566                              Very good app really 🖤  ...  Positive\n",
              "3658   I have been wanting to try out this app for a ...  ...  Negative\n",
              "1533   The widget has been broken for the last couple...  ...  Negative\n",
              "9552   I like so much BUT i have a advice. Like, if y...  ...  Positive\n",
              "3589                                           Great apk  ...  Positive\n",
              "\n",
              "[15 rows x 4 columns]"
            ]
          },
          "metadata": {
            "tags": []
          },
          "execution_count": 108
        }
      ]
    },
    {
      "cell_type": "code",
      "metadata": {
        "id": "OSC_cxJGdkrc"
      },
      "source": [
        ""
      ],
      "execution_count": null,
      "outputs": []
    }
  ]
}